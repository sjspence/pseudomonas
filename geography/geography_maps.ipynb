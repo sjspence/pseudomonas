{
 "cells": [
  {
   "cell_type": "code",
   "execution_count": 10,
   "metadata": {
    "collapsed": false
   },
   "outputs": [],
   "source": [
    "import os\n",
    "import math\n",
    "import pickle\n",
    "from mpl_toolkits.basemap import Basemap\n",
    "import matplotlib.pyplot as plt\n",
    "import numpy as np\n",
    "%matplotlib inline"
   ]
  },
  {
   "cell_type": "code",
   "execution_count": 7,
   "metadata": {
    "collapsed": false
   },
   "outputs": [],
   "source": [
    "metaFile1 = 'potential_metadata/all_data.txt'\n",
    "metaFile2 = 'potential_metadata/data.txt'\n",
    "colorFile = 'colorDict.p'\n",
    "colorDict = pickle.load(open(colorFile, 'rb'))"
   ]
  },
  {
   "cell_type": "code",
   "execution_count": 43,
   "metadata": {
    "collapsed": true
   },
   "outputs": [],
   "source": [
    "class Well(object):\n",
    "    def __init__(self, id, lat=None, long=None):\n",
    "        self.id = id\n",
    "        self.lat = lat\n",
    "        self.long = long\n",
    "\n",
    "class Sample(object):\n",
    "    def __init__(self, samp_id, no3=None, temp=None):\n",
    "        self.samp_id = samp_id\n",
    "        self.no3 = no3      #mg/L\n",
    "        self.temp = temp    #C"
   ]
  },
  {
   "cell_type": "code",
   "execution_count": 42,
   "metadata": {
    "collapsed": false
   },
   "outputs": [],
   "source": [
    "#Save Well objects and plot\n",
    "all_wells = []\n",
    "with open(metaFile1, 'r') as f:\n",
    "    for line in f:\n",
    "        if 'Location' in line:\n",
    "            continue\n",
    "        line = line.strip().split('\\t')\n",
    "        if (line[4] == '0') or (line[5] == '0') or (line[4] == '') or (line[5] == ''):\n",
    "            newWell = Well(line[0])\n",
    "        else:\n",
    "            newWell = Well(line[0], lat=float(line[4]), long=-1*float(line[5]))\n",
    "        all_wells.append(newWell)"
   ]
  },
  {
   "cell_type": "code",
   "execution_count": 85,
   "metadata": {
    "collapsed": false
   },
   "outputs": [
    {
     "data": {
      "image/png": "[encoded data removed]",
      "text/plain": [
       "<matplotlib.figure.Figure at 0x10f4f1a20>"
      ]
     },
     "metadata": {},
     "output_type": "display_data"
    }
   ],
   "source": [
    "# setup Lambert Conformal basemap.\n",
    "m = Basemap(width=8000,height=6000,projection='lcc',\n",
    "            resolution='c', lat_1=45., lat_2=55, \n",
    "            lat_0=35.96, lon_0=-84.30) #central point\n",
    "\n",
    "#m.fillcontinents(color='grey',lake_color='aqua')\n",
    "\n",
    "# draw parallels and meridians.\n",
    "# label parallels on right and top\n",
    "# meridians on bottom and left\n",
    "# go from meridian at 0N to 81N and label every 10\n",
    "parallels = np.arange(32., 40., 0.05)\n",
    "\n",
    "# labels = [left,right,top,bottom]\n",
    "m.drawparallels(parallels, labels=[False,True,True,False])\n",
    "\n",
    "meridians = np.arange(250., 290., 0.1)\n",
    "m.drawmeridians(meridians, labels=[True,False,False,True])\n",
    "\n",
    "m.drawmapscale(-84.27, 35.938, -84.3, 35.935, 1)\n",
    "\n",
    "for w in all_wells:\n",
    "    if (not w.lat) or (not w.long):\n",
    "        continue\n",
    "    if w.id not in colorDict:\n",
    "        continue\n",
    "    \n",
    "    lat = w.lat\n",
    "    lon = w.long\n",
    "    \n",
    "    # convert to map projection coords.\n",
    "    # Note that lon,lat can be scalars, lists or numpy arrays.\n",
    "    xpt, ypt = m(lon, lat)\n",
    "\n",
    "    # convert back to lat/lon\n",
    "    lonpt, latpt = m(xpt, ypt, inverse=True)\n",
    "\n",
    "    m.plot(xpt, ypt, marker = 'o', color = colorDict[w.id], markersize=10)\n",
    "\n",
    "    # put some text next to the dot, offset a little bit\n",
    "    # (the offset is in map projection coordinates)\n",
    "    #plt.text(xpt+1000,ypt+1000, w.id)\n",
    "plt.show()"
   ]
  },
  {
   "cell_type": "code",
   "execution_count": null,
   "metadata": {
    "collapsed": false
   },
   "outputs": [],
   "source": [
    "#START HERE, CREATE SUBMAPS\n",
    "\n",
    "# setup Lambert Conformal basemap.\n",
    "m = Basemap(width=8000,height=6000,projection='lcc',\n",
    "            resolution='c', lat_1=45., lat_2=55, \n",
    "            lat_0=35.96, lon_0=-84.30) #central point\n",
    "\n",
    "#m.fillcontinents(color='grey',lake_color='aqua')\n",
    "\n",
    "# draw parallels and meridians.\n",
    "# label parallels on right and top\n",
    "# meridians on bottom and left\n",
    "# go from meridian at 0N to 81N and label every 10\n",
    "parallels = np.arange(32., 40., 0.05)\n",
    "\n",
    "# labels = [left,right,top,bottom]\n",
    "m.drawparallels(parallels, labels=[False,True,True,False])\n",
    "\n",
    "meridians = np.arange(250., 290., 0.1)\n",
    "m.drawmeridians(meridians, labels=[True,False,False,True])\n",
    "\n",
    "for w in all_wells:\n",
    "    if (not w.lat) or (not w.long):\n",
    "        continue\n",
    "    if w.id not in colorDict:\n",
    "        continue\n",
    "    \n",
    "    lat = w.lat\n",
    "    lon = w.long\n",
    "    \n",
    "    # convert to map projection coords.\n",
    "    # Note that lon,lat can be scalars, lists or numpy arrays.\n",
    "    xpt, ypt = m(lon, lat)\n",
    "\n",
    "    # convert back to lat/lon\n",
    "    lonpt, latpt = m(xpt, ypt, inverse=True)\n",
    "\n",
    "    m.plot(xpt, ypt, marker = 'o', color = colorDict[w.id])\n",
    "\n",
    "    # put some text next to the dot, offset a little bit\n",
    "    # (the offset is in map projection coordinates)\n",
    "    #plt.text(xpt+1000,ypt+1000, w.id)\n",
    "plt.show()"
   ]
  },
  {
   "cell_type": "code",
   "execution_count": null,
   "metadata": {
    "collapsed": true
   },
   "outputs": [],
   "source": []
  }
 ],
 "metadata": {
  "kernelspec": {
   "display_name": "Python 3",
   "language": "python",
   "name": "python3"
  },
  "language_info": {
   "codemirror_mode": {
    "name": "ipython",
    "version": 3
   },
   "file_extension": ".py",
   "mimetype": "text/x-python",
   "name": "python",
   "nbconvert_exporter": "python",
   "pygments_lexer": "ipython3",
   "version": "3.5.3"
  }
 },
 "nbformat": 4,
 "nbformat_minor": 0
}
