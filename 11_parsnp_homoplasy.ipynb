{
 "cells": [
  {
   "cell_type": "code",
   "execution_count": 1,
   "metadata": {
    "collapsed": false
   },
   "outputs": [
    {
     "name": "stderr",
     "output_type": "stream",
     "text": [
      "/home/ubuntu/tools/anaconda2/lib/python2.7/site-packages/matplotlib/font_manager.py:273: UserWarning: Matplotlib is building the font cache using fc-list. This may take a moment.\n",
      "  warnings.warn('Matplotlib is building the font cache using fc-list. This may take a moment.')\n"
     ]
    }
   ],
   "source": [
    "import os\n",
    "import sys\n",
    "import matplotlib as mpl\n",
    "import matplotlib.pyplot as plt\n",
    "from Bio import SeqIO\n",
    "from Bio import Phylo\n",
    "import pandas as pd\n",
    "import seaborn as sns\n",
    "mpl.rcParams['pdf.fonttype'] = 42\n",
    "%matplotlib inline"
   ]
  },
  {
   "cell_type": "code",
   "execution_count": 2,
   "metadata": {
    "collapsed": true
   },
   "outputs": [],
   "source": [
    "def checkSlash(directory):\n",
    "    if directory[-1] != '/':\n",
    "        directory = directory + '/'\n",
    "    return directory"
   ]
  },
  {
   "cell_type": "code",
   "execution_count": 3,
   "metadata": {
    "collapsed": false
   },
   "outputs": [],
   "source": [
    "coreDir = '/home/ubuntu/proc/sjspence/170105_PSE/'\n",
    "snpDir = '11_parsnp_subgroups_snps'\n",
    "subDir = 'subA/'\n",
    "coreDir = checkSlash(coreDir)\n",
    "snpDir = checkSlash(snpDir)\n",
    "subDir = checkSlash(subDir)"
   ]
  },
  {
   "cell_type": "markdown",
   "metadata": {},
   "source": [
    "**SETUP ANCESTRAL RECONSTRUCTION**"
   ]
  },
  {
   "cell_type": "code",
   "execution_count": 16,
   "metadata": {
    "collapsed": false
   },
   "outputs": [],
   "source": [
    "ctlName = 'baseml.ctl'\n",
    "ctl = open(ctlName, 'r')\n",
    "ctlOut = open(snpDir + subDir + ctlName, 'w')\n",
    "#Files to access\n",
    "variantFile = coreDir + snpDir + subDir + 'variants.mfa'\n",
    "treeFile = coreDir + snpDir + subDir + 'parsnp.tree'\n",
    "outFile = coreDir + snpDir + subDir + 'mlb'\n",
    "for line in ctl:\n",
    "    lineList = line.strip().split(' ')\n",
    "    if lineList[0] == 'seqfile':\n",
    "        ctlOut.write(line.replace(lineList[2], variantFile))\n",
    "    elif lineList[0] == 'treefile':\n",
    "        ctlOut.write(line.replace(lineList[2], treeFile))\n",
    "    elif lineList[0] == 'outfile':\n",
    "        ctlOut.write(line.replace(lineList[2], outFile))\n",
    "    elif lineList[0] == 'model':\n",
    "        ctlOut.write(line.replace(lineList[2], '0')) #Jukes-cantor 69\n",
    "    elif lineList[0] == 'RateAncestor':\n",
    "        ctlOut.write(line.replace(lineList[2], '1'))\n",
    "#    elif lineList[0] == 'nhomo':\n",
    "#        ctlOut.write('* ' + line)\n",
    "    else:\n",
    "        ctlOut.write(line)\n",
    "ctl.close()\n",
    "ctlOut.close()"
   ]
  },
  {
   "cell_type": "code",
   "execution_count": 17,
   "metadata": {
    "collapsed": false
   },
   "outputs": [
    {
     "data": {
      "text/plain": [
       "65280"
      ]
     },
     "execution_count": 17,
     "metadata": {},
     "output_type": "execute_result"
    }
   ],
   "source": [
    "os.system('baseml ' + snpDir + subDir + ctlName)"
   ]
  },
  {
   "cell_type": "markdown",
   "metadata": {},
   "source": [
    "**ANCESTRAL RECONSTRUCTION WITH FASTML**"
   ]
  },
  {
   "cell_type": "code",
   "execution_count": 4,
   "metadata": {
    "collapsed": false
   },
   "outputs": [],
   "source": [
    "#First, edit tree files to remove non-standard quote characters\n",
    "treeFile = coreDir + snpDir + subDir + 'parsnp.tree'\n",
    "treeIn = open(treeFile, 'r')\n",
    "treeEdit = treeFile.replace('.tree', '_edit.tree')\n",
    "treeOut = open(treeEdit, 'w')\n",
    "for line in treeIn:\n",
    "    treeOut.write(line.replace('\\'', ''))\n",
    "treeIn.close()\n",
    "treeOut.close()"
   ]
  },
  {
   "cell_type": "code",
   "execution_count": 31,
   "metadata": {
    "collapsed": false
   },
   "outputs": [
    {
     "name": "stdout",
     "output_type": "stream",
     "text": [
      "3\n",
      "(((0_102050:0.10163,_102044:0.12219)0.380:0.01083,((_102045:0.16780,_102046:0.12594)0.840:0.02093,(_102047:0.11969,(_102040:0.13137,_102043:0.14422)0.110:0.01392)0.890:0.01294)0.950:0.02018)0.940:0.01913,((_102037:0.11354,_102048:0.19374)0.450:0.02021,(_102042:0.14147,_102065:0.11813)0.770:0.02021)0.270:0.00468,((_102036:0.14163,_102051:0.10484)0.970:0.02329,((_102039:0.09703,_102038:0.15359)0.980:0.03284,(_102041:0.13162,_102049:0.12741)0.920:0.02011)0.810:0.00357)0.930:0.01292);\n",
      "\n",
      "19\n",
      "(((_102050:0.10163,1_102044:0.12219)0.380:0.01083,((_102045:0.16780,_102046:0.12594)0.840:0.02093,(_102047:0.11969,(_102040:0.13137,_102043:0.14422)0.110:0.01392)0.890:0.01294)0.950:0.02018)0.940:0.01913,((_102037:0.11354,_102048:0.19374)0.450:0.02021,(_102042:0.14147,_102065:0.11813)0.770:0.02021)0.270:0.00468,((_102036:0.14163,_102051:0.10484)0.970:0.02329,((_102039:0.09703,_102038:0.15359)0.980:0.03284,(_102041:0.13162,_102049:0.12741)0.920:0.02011)0.810:0.00357)0.930:0.01292);\n",
      "\n",
      "51\n",
      "(((_102050:0.10163,_102044:0.12219)0.380:0.01083,((2_102045:0.16780,_102046:0.12594)0.840:0.02093,(_102047:0.11969,(_102040:0.13137,_102043:0.14422)0.110:0.01392)0.890:0.01294)0.950:0.02018)0.940:0.01913,((_102037:0.11354,_102048:0.19374)0.450:0.02021,(_102042:0.14147,_102065:0.11813)0.770:0.02021)0.270:0.00468,((_102036:0.14163,_102051:0.10484)0.970:0.02329,((_102039:0.09703,_102038:0.15359)0.980:0.03284,(_102041:0.13162,_102049:0.12741)0.920:0.02011)0.810:0.00357)0.930:0.01292);\n",
      "\n",
      "67\n",
      "(((_102050:0.10163,_102044:0.12219)0.380:0.01083,((_102045:0.16780,3_102046:0.12594)0.840:0.02093,(_102047:0.11969,(_102040:0.13137,_102043:0.14422)0.110:0.01392)0.890:0.01294)0.950:0.02018)0.940:0.01913,((_102037:0.11354,_102048:0.19374)0.450:0.02021,(_102042:0.14147,_102065:0.11813)0.770:0.02021)0.270:0.00468,((_102036:0.14163,_102051:0.10484)0.970:0.02329,((_102039:0.09703,_102038:0.15359)0.980:0.03284,(_102041:0.13162,_102049:0.12741)0.920:0.02011)0.810:0.00357)0.930:0.01292);\n",
      "\n",
      "98\n",
      "(((_102050:0.10163,_102044:0.12219)0.380:0.01083,((_102045:0.16780,_102046:0.12594)0.840:0.02093,(4_102047:0.11969,(_102040:0.13137,_102043:0.14422)0.110:0.01392)0.890:0.01294)0.950:0.02018)0.940:0.01913,((_102037:0.11354,_102048:0.19374)0.450:0.02021,(_102042:0.14147,_102065:0.11813)0.770:0.02021)0.270:0.00468,((_102036:0.14163,_102051:0.10484)0.970:0.02329,((_102039:0.09703,_102038:0.15359)0.980:0.03284,(_102041:0.13162,_102049:0.12741)0.920:0.02011)0.810:0.00357)0.930:0.01292);\n",
      "\n",
      "115\n",
      "(((_102050:0.10163,_102044:0.12219)0.380:0.01083,((_102045:0.16780,_102046:0.12594)0.840:0.02093,(_102047:0.11969,(5_102040:0.13137,_102043:0.14422)0.110:0.01392)0.890:0.01294)0.950:0.02018)0.940:0.01913,((_102037:0.11354,_102048:0.19374)0.450:0.02021,(_102042:0.14147,_102065:0.11813)0.770:0.02021)0.270:0.00468,((_102036:0.14163,_102051:0.10484)0.970:0.02329,((_102039:0.09703,_102038:0.15359)0.980:0.03284,(_102041:0.13162,_102049:0.12741)0.920:0.02011)0.810:0.00357)0.930:0.01292);\n",
      "\n",
      "131\n",
      "(((_102050:0.10163,_102044:0.12219)0.380:0.01083,((_102045:0.16780,_102046:0.12594)0.840:0.02093,(_102047:0.11969,(_102040:0.13137,6_102043:0.14422)0.110:0.01392)0.890:0.01294)0.950:0.02018)0.940:0.01913,((_102037:0.11354,_102048:0.19374)0.450:0.02021,(_102042:0.14147,_102065:0.11813)0.770:0.02021)0.270:0.00468,((_102036:0.14163,_102051:0.10484)0.970:0.02329,((_102039:0.09703,_102038:0.15359)0.980:0.03284,(_102041:0.13162,_102049:0.12741)0.920:0.02011)0.810:0.00357)0.930:0.01292);\n",
      "\n",
      "205\n",
      "(((_102050:0.10163,_102044:0.12219)0.380:0.01083,((_102045:0.16780,_102046:0.12594)0.840:0.02093,(_102047:0.11969,(_102040:0.13137,_102043:0.14422)0.110:0.01392)0.890:0.01294)0.950:0.02018)0.940:0.01913,((7_102037:0.11354,_102048:0.19374)0.450:0.02021,(_102042:0.14147,_102065:0.11813)0.770:0.02021)0.270:0.00468,((_102036:0.14163,_102051:0.10484)0.970:0.02329,((_102039:0.09703,_102038:0.15359)0.980:0.03284,(_102041:0.13162,_102049:0.12741)0.920:0.02011)0.810:0.00357)0.930:0.01292);\n",
      "\n",
      "221\n",
      "(((_102050:0.10163,_102044:0.12219)0.380:0.01083,((_102045:0.16780,_102046:0.12594)0.840:0.02093,(_102047:0.11969,(_102040:0.13137,_102043:0.14422)0.110:0.01392)0.890:0.01294)0.950:0.02018)0.940:0.01913,((_102037:0.11354,8_102048:0.19374)0.450:0.02021,(_102042:0.14147,_102065:0.11813)0.770:0.02021)0.270:0.00468,((_102036:0.14163,_102051:0.10484)0.970:0.02329,((_102039:0.09703,_102038:0.15359)0.980:0.03284,(_102041:0.13162,_102049:0.12741)0.920:0.02011)0.810:0.00357)0.930:0.01292);\n",
      "\n",
      "252\n",
      "(((_102050:0.10163,_102044:0.12219)0.380:0.01083,((_102045:0.16780,_102046:0.12594)0.840:0.02093,(_102047:0.11969,(_102040:0.13137,_102043:0.14422)0.110:0.01392)0.890:0.01294)0.950:0.02018)0.940:0.01913,((_102037:0.11354,_102048:0.19374)0.450:0.02021,(9_102042:0.14147,_102065:0.11813)0.770:0.02021)0.270:0.00468,((_102036:0.14163,_102051:0.10484)0.970:0.02329,((_102039:0.09703,_102038:0.15359)0.980:0.03284,(_102041:0.13162,_102049:0.12741)0.920:0.02011)0.810:0.00357)0.930:0.01292);\n",
      "\n",
      "268\n",
      "(((_102050:0.10163,_102044:0.12219)0.380:0.01083,((_102045:0.16780,_102046:0.12594)0.840:0.02093,(_102047:0.11969,(_102040:0.13137,_102043:0.14422)0.110:0.01392)0.890:0.01294)0.950:0.02018)0.940:0.01913,((_102037:0.11354,_102048:0.19374)0.450:0.02021,(_102042:0.14147,10_102065:0.11813)0.770:0.02021)0.270:0.00468,((_102036:0.14163,_102051:0.10484)0.970:0.02329,((_102039:0.09703,_102038:0.15359)0.980:0.03284,(_102041:0.13162,_102049:0.12741)0.920:0.02011)0.810:0.00357)0.930:0.01292);\n",
      "\n",
      "314\n",
      "(((_102050:0.10163,_102044:0.12219)0.380:0.01083,((_102045:0.16780,_102046:0.12594)0.840:0.02093,(_102047:0.11969,(_102040:0.13137,_102043:0.14422)0.110:0.01392)0.890:0.01294)0.950:0.02018)0.940:0.01913,((_102037:0.11354,_102048:0.19374)0.450:0.02021,(_102042:0.14147,_102065:0.11813)0.770:0.02021)0.270:0.00468,((11_102036:0.14163,_102051:0.10484)0.970:0.02329,((_102039:0.09703,_102038:0.15359)0.980:0.03284,(_102041:0.13162,_102049:0.12741)0.920:0.02011)0.810:0.00357)0.930:0.01292);\n",
      "\n",
      "330\n",
      "(((_102050:0.10163,_102044:0.12219)0.380:0.01083,((_102045:0.16780,_102046:0.12594)0.840:0.02093,(_102047:0.11969,(_102040:0.13137,_102043:0.14422)0.110:0.01392)0.890:0.01294)0.950:0.02018)0.940:0.01913,((_102037:0.11354,_102048:0.19374)0.450:0.02021,(_102042:0.14147,_102065:0.11813)0.770:0.02021)0.270:0.00468,((_102036:0.14163,12_102051:0.10484)0.970:0.02329,((_102039:0.09703,_102038:0.15359)0.980:0.03284,(_102041:0.13162,_102049:0.12741)0.920:0.02011)0.810:0.00357)0.930:0.01292);\n",
      "\n",
      "362\n",
      "(((_102050:0.10163,_102044:0.12219)0.380:0.01083,((_102045:0.16780,_102046:0.12594)0.840:0.02093,(_102047:0.11969,(_102040:0.13137,_102043:0.14422)0.110:0.01392)0.890:0.01294)0.950:0.02018)0.940:0.01913,((_102037:0.11354,_102048:0.19374)0.450:0.02021,(_102042:0.14147,_102065:0.11813)0.770:0.02021)0.270:0.00468,((_102036:0.14163,_102051:0.10484)0.970:0.02329,((13_102039:0.09703,_102038:0.15359)0.980:0.03284,(_102041:0.13162,_102049:0.12741)0.920:0.02011)0.810:0.00357)0.930:0.01292);\n",
      "\n",
      "378\n",
      "(((_102050:0.10163,_102044:0.12219)0.380:0.01083,((_102045:0.16780,_102046:0.12594)0.840:0.02093,(_102047:0.11969,(_102040:0.13137,_102043:0.14422)0.110:0.01392)0.890:0.01294)0.950:0.02018)0.940:0.01913,((_102037:0.11354,_102048:0.19374)0.450:0.02021,(_102042:0.14147,_102065:0.11813)0.770:0.02021)0.270:0.00468,((_102036:0.14163,_102051:0.10484)0.970:0.02329,((_102039:0.09703,14_102038:0.15359)0.980:0.03284,(_102041:0.13162,_102049:0.12741)0.920:0.02011)0.810:0.00357)0.930:0.01292);\n",
      "\n",
      "409\n",
      "(((_102050:0.10163,_102044:0.12219)0.380:0.01083,((_102045:0.16780,_102046:0.12594)0.840:0.02093,(_102047:0.11969,(_102040:0.13137,_102043:0.14422)0.110:0.01392)0.890:0.01294)0.950:0.02018)0.940:0.01913,((_102037:0.11354,_102048:0.19374)0.450:0.02021,(_102042:0.14147,_102065:0.11813)0.770:0.02021)0.270:0.00468,((_102036:0.14163,_102051:0.10484)0.970:0.02329,((_102039:0.09703,_102038:0.15359)0.980:0.03284,(15_102041:0.13162,_102049:0.12741)0.920:0.02011)0.810:0.00357)0.930:0.01292);\n",
      "\n",
      "425\n",
      "(((_102050:0.10163,_102044:0.12219)0.380:0.01083,((_102045:0.16780,_102046:0.12594)0.840:0.02093,(_102047:0.11969,(_102040:0.13137,_102043:0.14422)0.110:0.01392)0.890:0.01294)0.950:0.02018)0.940:0.01913,((_102037:0.11354,_102048:0.19374)0.450:0.02021,(_102042:0.14147,_102065:0.11813)0.770:0.02021)0.270:0.00468,((_102036:0.14163,_102051:0.10484)0.970:0.02329,((_102039:0.09703,_102038:0.15359)0.980:0.03284,(_102041:0.13162,16_102049:0.12741)0.920:0.02011)0.810:0.00357)0.930:0.01292);\n",
      "\n",
      "(((_102050:0.10163,_102044:0.12219)0.380:0.01083,((_102045:0.16780,_102046:0.12594)0.840:0.02093,(_102047:0.11969,(_102040:0.13137,_102043:0.14422)0.110:0.01392)0.890:0.01294)0.950:0.02018)0.940:0.01913,((_102037:0.11354,_102048:0.19374)0.450:0.02021,(_102042:0.14147,_102065:0.11813)0.770:0.02021)0.270:0.00468,((_102036:0.14163,_102051:0.10484)0.970:0.02329,((_102039:0.09703,_102038:0.15359)0.980:0.03284,(_102041:0.13162,16_102049:0.12741)0.920:0.02011)0.810:0.00357)0.930:0.01292);\n",
      "\n"
     ]
    }
   ],
   "source": [
    "tree2name = treeEdit.replace('.tree', '_tree2.txt')\n",
    "tree1 = open(treeEdit, 'r')\n",
    "tree2 = open(tree2name, 'w')\n",
    "for line in tree1:\n",
    "    line = line.replace('_contigs.fa.ref', '-ref')\n",
    "    line = line.replace('_contigs.fa', '')\n",
    "    line = line.replace('-','_')\n",
    "    line = line.replace('D17', '')\n",
    "    line = line.replace('_ref', '')\n",
    "    tree2.write(line)\n",
    "#START HERE, RENAME BY IMPORTING TREES AND RENAMING NODES\n",
    "tree1.close()\n",
    "tree2.close()"
   ]
  },
  {
   "cell_type": "code",
   "execution_count": 11,
   "metadata": {
    "collapsed": true
   },
   "outputs": [],
   "source": [
    "variantFileName = coreDir + snpDir + subDir + 'variants.mfa'\n",
    "variantFile = open(variantFileName, 'r')\n",
    "variant2name = variantFileName.replace('.mfa', '2.aln')\n",
    "variant2 = open(variant2name, 'w')\n",
    "for line in variantFile:\n",
    "    if '>' in line:\n",
    "        line = line.replace('_contigs.fa.ref', '-ref')\n",
    "        line = line.replace('_contigs.fa', '')\n",
    "        line = line.replace('-','_')\n",
    "        line = line.replace('D17_', '')\n",
    "        line = line.replace('_ref', '')\n",
    "        variant2.write(line)\n",
    "    else:\n",
    "        variant2.write(line)\n",
    "variantFile.close()\n",
    "variant2.close()"
   ]
  },
  {
   "cell_type": "code",
   "execution_count": 12,
   "metadata": {
    "collapsed": true
   },
   "outputs": [],
   "source": [
    "fastmlPath = '/home/ubuntu/tools/FastML.v3.1/www/fastml/FastML_Wrapper.pl'\n",
    "outDir = coreDir + snpDir + subDir + 'fastml/'\n",
    "if not os.path.exists(outDir):\n",
    "    os.makedirs(outDir)"
   ]
  },
  {
   "cell_type": "code",
   "execution_count": 13,
   "metadata": {
    "collapsed": false
   },
   "outputs": [
    {
     "data": {
      "text/plain": [
       "0"
      ]
     },
     "execution_count": 13,
     "metadata": {},
     "output_type": "execute_result"
    }
   ],
   "source": [
    "outDir = coreDir + snpDir + subDir + 'fastml/'\n",
    "os.system('rm -r ' + outDir)\n",
    "os.system('perl ' + fastmlPath + ' --MSA_File ' + variant2name + ' --seqType nuc --outDir ' + outDir + \\\n",
    "         ' --Tree ' + tree2name + ' --jointReconstruction no --indelReconstruction ML')"
   ]
  },
  {
   "cell_type": "code",
   "execution_count": 9,
   "metadata": {
    "collapsed": false
   },
   "outputs": [
    {
     "name": "stdout",
     "output_type": "stream",
     "text": [
      "/home/ubuntu/proc/sjspence/170105_PSE/11_parsnp_subgroups_snps/subA/variants2.aln\n",
      "/home/ubuntu/proc/sjspence/170105_PSE/11_parsnp_subgroups_snps/subA/parsnp_edit_tree2.txt\n"
     ]
    }
   ],
   "source": [
    "print(variant2name)\n",
    "print(tree2name)"
   ]
  },
  {
   "cell_type": "code",
   "execution_count": 37,
   "metadata": {
    "collapsed": false
   },
   "outputs": [
    {
     "data": {
      "text/plain": [
       "0"
      ]
     },
     "execution_count": 37,
     "metadata": {},
     "output_type": "execute_result"
    }
   ],
   "source": [
    "#Demonstrate that this damn program *can* work\n",
    "alnFile = coreDir + snpDir + subDir + 'seq.aln'\n",
    "treeFile = coreDir + snpDir + subDir + 'tree.txt'\n",
    "outDir = coreDir + snpDir + subDir + 'trial/'\n",
    "os.system('perl ' + fastmlPath + ' --MSA_File ' + alnFile + ' --outDir ' + outDir + ' --seqType aa --Tree ' + \\\n",
    "          treeFile)"
   ]
  },
  {
   "cell_type": "code",
   "execution_count": 39,
   "metadata": {
    "collapsed": false
   },
   "outputs": [
    {
     "name": "stdout",
     "output_type": "stream",
     "text": [
      "  __________________________ 8_Q98862_Q\n",
      " |\n",
      " |     _____________________ 7_Q91612_Q\n",
      " |    |\n",
      " |    |                                        _ 0__reading\n",
      " |____|         ______________________________|\n",
      " |    |        |                              , 9_HH_DROME\n",
      " |    |        |                              |\n",
      " |    |        |                              | 10_A46400\n",
      "_|    |________|\n",
      " |             |                                                  , 1_Q09632_Q\n",
      " |             |    ______________________________________________|\n",
      " |             |   |                                              | 2_Q94128_Q\n",
      " |             |___|\n",
      " |                 |               _ 5_Q91610_Q\n",
      " |                 |______________|\n",
      " |                                | 6_Q91611_Q\n",
      " |\n",
      " | ______________ 3_Q90385_Q\n",
      " ||\n",
      "  |__________ 4_Q90419_Q\n",
      "\n"
     ]
    }
   ],
   "source": [
    "Phylo.draw_ascii(Phylo.read(treeFile, 'newick'))"
   ]
  },
  {
   "cell_type": "code",
   "execution_count": 5,
   "metadata": {
    "collapsed": true
   },
   "outputs": [],
   "source": [
    "testTree = Phylo.read(snpDir + 'subA/parsnp.tree', 'newick')"
   ]
  },
  {
   "cell_type": "code",
   "execution_count": 6,
   "metadata": {
    "collapsed": false
   },
   "outputs": [
    {
     "name": "stdout",
     "output_type": "stream",
     "text": [
      "        _____________________ D17-102050_contigs.fa.ref\n",
      "      _|\n",
      "     | |_________________________ D17-102044_contigs.fa\n",
      "     |\n",
      "  ___|        ____________________________________ D17-102045_contigs.fa\n",
      " |   |    ___|\n",
      " |   |   |   |___________________________ D17-102046_contigs.fa\n",
      " |   |___|\n",
      " |       |   ________________________ D17-102047_contigs.fa\n",
      " |       |__|\n",
      " |          |   ___________________________ D17-102040_contigs.fa\n",
      " |          |__|\n",
      " |             |______________________________ D17-102043_contigs.fa\n",
      " |\n",
      " |     _______________________ D17-102037_contigs.fa\n",
      "_| ___|\n",
      " ||   |________________________________________ D17-102048_contigs.fa\n",
      " ||\n",
      " ||    _____________________________ D17-102042_contigs.fa\n",
      " ||___|\n",
      " |    |________________________ D17-102065_contigs.fa\n",
      " |\n",
      " |       ______________________________ D17-102036_contigs.fa\n",
      " |  ____|\n",
      " | |    |______________________ D17-102051_contigs.fa\n",
      " | |\n",
      " |_|        ____________________ D17-102039_contigs.fa\n",
      "   | ______|\n",
      "   ||      |________________________________ D17-102038_contigs.fa\n",
      "   ||\n",
      "    |    ____________________________ D17-102041_contigs.fa\n",
      "    |___|\n",
      "        |___________________________ D17-102049_contigs.fa\n",
      "\n"
     ]
    }
   ],
   "source": [
    "Phylo.draw_ascii(testTree)"
   ]
  },
  {
   "cell_type": "code",
   "execution_count": null,
   "metadata": {
    "collapsed": true
   },
   "outputs": [],
   "source": []
  },
  {
   "cell_type": "code",
   "execution_count": 65,
   "metadata": {
    "collapsed": true
   },
   "outputs": [],
   "source": [
    "def getSNPs(contigFile):\n",
    "    records = SeqIO.parse(snpDir + subDir + 'variants.mfa', 'fasta')\n",
    "    for r in records:\n",
    "        if r.id == contigFile:\n",
    "            return(r.seq)\n",
    "    print('Error, wrong file referenced')\n",
    "\n",
    "def compareTerminals(terminals):\n",
    "    for subList in terminals:\n",
    "        commonClade = []\n",
    "        for i in subList:\n",
    "            variants = getSNPs(i)\n",
    "            commonClade.append(variants)\n",
    "        "
   ]
  },
  {
   "cell_type": "code",
   "execution_count": 66,
   "metadata": {
    "collapsed": true
   },
   "outputs": [],
   "source": [
    "def compareSNPs(clade):\n",
    "    if clade.is_terminal():\n",
    "        pass\n",
    "    elif len(clade.clades) >= 2:\n",
    "        terminals = []\n",
    "        for c in clade.clades:\n",
    "            terminalObjects = c.get_terminals()\n",
    "            terminalList = []\n",
    "            for o in terminalObjects:\n",
    "                terminalList.append(o.name)\n",
    "            terminals.append(terminalList)\n",
    "        print(terminals)\n",
    "        compareTerminals(terminals)\n",
    "        for c in clade.clades:\n",
    "            compareSNPs(c)\n",
    "    else:\n",
    "        print('Error, check tree configuration')"
   ]
  },
  {
   "cell_type": "code",
   "execution_count": 67,
   "metadata": {
    "collapsed": false
   },
   "outputs": [
    {
     "name": "stdout",
     "output_type": "stream",
     "text": [
      "[['D17-102050_contigs.fa.ref', 'D17-102044_contigs.fa', 'D17-102045_contigs.fa', 'D17-102046_contigs.fa', 'D17-102047_contigs.fa', 'D17-102040_contigs.fa', 'D17-102043_contigs.fa'], ['D17-102037_contigs.fa', 'D17-102048_contigs.fa', 'D17-102042_contigs.fa', 'D17-102065_contigs.fa'], ['D17-102036_contigs.fa', 'D17-102051_contigs.fa', 'D17-102039_contigs.fa', 'D17-102038_contigs.fa', 'D17-102041_contigs.fa', 'D17-102049_contigs.fa']]\n",
      "748\n",
      "748\n",
      "748\n",
      "748\n",
      "748\n",
      "748\n",
      "748\n",
      "748\n",
      "748\n",
      "748\n",
      "748\n",
      "748\n",
      "748\n",
      "748\n",
      "748\n",
      "748\n",
      "748\n",
      "[['D17-102050_contigs.fa.ref', 'D17-102044_contigs.fa'], ['D17-102045_contigs.fa', 'D17-102046_contigs.fa', 'D17-102047_contigs.fa', 'D17-102040_contigs.fa', 'D17-102043_contigs.fa']]\n",
      "748\n",
      "748\n",
      "748\n",
      "748\n",
      "748\n",
      "748\n",
      "748\n",
      "[['D17-102050_contigs.fa.ref'], ['D17-102044_contigs.fa']]\n",
      "748\n",
      "748\n",
      "[['D17-102045_contigs.fa', 'D17-102046_contigs.fa'], ['D17-102047_contigs.fa', 'D17-102040_contigs.fa', 'D17-102043_contigs.fa']]\n",
      "748\n",
      "748\n",
      "748\n",
      "748\n",
      "748\n",
      "[['D17-102045_contigs.fa'], ['D17-102046_contigs.fa']]\n",
      "748\n",
      "748\n",
      "[['D17-102047_contigs.fa'], ['D17-102040_contigs.fa', 'D17-102043_contigs.fa']]\n",
      "748\n",
      "748\n",
      "748\n",
      "[['D17-102040_contigs.fa'], ['D17-102043_contigs.fa']]\n",
      "748\n",
      "748\n",
      "[['D17-102037_contigs.fa', 'D17-102048_contigs.fa'], ['D17-102042_contigs.fa', 'D17-102065_contigs.fa']]\n",
      "748\n",
      "748\n",
      "748\n",
      "748\n",
      "[['D17-102037_contigs.fa'], ['D17-102048_contigs.fa']]\n",
      "748\n",
      "748\n",
      "[['D17-102042_contigs.fa'], ['D17-102065_contigs.fa']]\n",
      "748\n",
      "748\n",
      "[['D17-102036_contigs.fa', 'D17-102051_contigs.fa'], ['D17-102039_contigs.fa', 'D17-102038_contigs.fa', 'D17-102041_contigs.fa', 'D17-102049_contigs.fa']]\n",
      "748\n",
      "748\n",
      "748\n",
      "748\n",
      "748\n",
      "748\n",
      "[['D17-102036_contigs.fa'], ['D17-102051_contigs.fa']]\n",
      "748\n",
      "748\n",
      "[['D17-102039_contigs.fa', 'D17-102038_contigs.fa'], ['D17-102041_contigs.fa', 'D17-102049_contigs.fa']]\n",
      "748\n",
      "748\n",
      "748\n",
      "748\n",
      "[['D17-102039_contigs.fa'], ['D17-102038_contigs.fa']]\n",
      "748\n",
      "748\n",
      "[['D17-102041_contigs.fa'], ['D17-102049_contigs.fa']]\n",
      "748\n",
      "748\n"
     ]
    }
   ],
   "source": [
    "compareSNPs(testTree.root)"
   ]
  },
  {
   "cell_type": "code",
   "execution_count": 33,
   "metadata": {
    "collapsed": false
   },
   "outputs": [
    {
     "data": {
      "text/plain": [
       "['__bool__',\n",
       " '__class__',\n",
       " '__delattr__',\n",
       " '__format__',\n",
       " '__getattribute__',\n",
       " '__getitem__',\n",
       " '__hash__',\n",
       " '__init__',\n",
       " '__iter__',\n",
       " '__len__',\n",
       " '__new__',\n",
       " '__nonzero__',\n",
       " '__reduce__',\n",
       " '__reduce_ex__',\n",
       " '__repr__',\n",
       " '__setattr__',\n",
       " '__sizeof__',\n",
       " '__str__',\n",
       " '__subclasshook__',\n",
       " '_filter_search',\n",
       " '_get_color',\n",
       " '_set_color',\n",
       " 'collapse',\n",
       " 'collapse_all',\n",
       " 'common_ancestor',\n",
       " 'count_terminals',\n",
       " 'depths',\n",
       " 'distance',\n",
       " 'find_any',\n",
       " 'find_clades',\n",
       " 'find_elements',\n",
       " 'get_nonterminals',\n",
       " 'get_path',\n",
       " 'get_terminals',\n",
       " 'is_bifurcating',\n",
       " 'is_monophyletic',\n",
       " 'is_parent_of',\n",
       " 'is_preterminal',\n",
       " 'is_terminal',\n",
       " 'ladderize',\n",
       " 'prune',\n",
       " 'split',\n",
       " 'total_branch_length',\n",
       " 'trace']"
      ]
     },
     "execution_count": 33,
     "metadata": {},
     "output_type": "execute_result"
    }
   ],
   "source": [
    "#[method for method in dir(testTree) if callable(getattr(testTree, method))]\n",
    "#globals(testTree)\n",
    "[method for method in dir(testTree.root) if callable(getattr(testTree.root, method))]"
   ]
  },
  {
   "cell_type": "code",
   "execution_count": null,
   "metadata": {
    "collapsed": true
   },
   "outputs": [],
   "source": [
    "def pop_list(nodes=None, parent=None, node_list=None):\n",
    "    if parent is None:\n",
    "        return node_list\n",
    "    node_list.append([])\n",
    "    for node in nodes:\n",
    "        if node['parent'] == parent:\n",
    "            node_list[-1].append(node)\n",
    "        if node['id'] == parent:\n",
    "            next_parent = node['parent']\n",
    "\n",
    "    pop_list(nodes, next_parent, node_list)\n",
    "    return node_list"
   ]
  },
  {
   "cell_type": "code",
   "execution_count": null,
   "metadata": {
    "collapsed": true
   },
   "outputs": [],
   "source": [
    "for clade in testTree.find_clades():\n",
    "    print clade.name"
   ]
  }
 ],
 "metadata": {
  "kernelspec": {
   "display_name": "Python 2",
   "language": "python",
   "name": "python2"
  },
  "language_info": {
   "codemirror_mode": {
    "name": "ipython",
    "version": 2
   },
   "file_extension": ".py",
   "mimetype": "text/x-python",
   "name": "python",
   "nbconvert_exporter": "python",
   "pygments_lexer": "ipython2",
   "version": "2.7.11"
  }
 },
 "nbformat": 4,
 "nbformat_minor": 0
}
