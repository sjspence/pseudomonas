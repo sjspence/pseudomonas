{
 "cells": [
  {
   "cell_type": "code",
   "execution_count": 1,
   "metadata": {
    "collapsed": false
   },
   "outputs": [
    {
     "name": "stderr",
     "output_type": "stream",
     "text": [
      "/home/ubuntu/tools/anaconda2/lib/python2.7/site-packages/matplotlib/font_manager.py:273: UserWarning: Matplotlib is building the font cache using fc-list. This may take a moment.\n",
      "  warnings.warn('Matplotlib is building the font cache using fc-list. This may take a moment.')\n"
     ]
    }
   ],
   "source": [
    "import os\n",
    "import sys\n",
    "import matplotlib as mpl\n",
    "import matplotlib.pyplot as plt\n",
    "from Bio import SeqIO\n",
    "from Bio import Phylo\n",
    "import pandas as pd\n",
    "import seaborn as sns\n",
    "mpl.rcParams['pdf.fonttype'] = 42\n",
    "%matplotlib inline"
   ]
  },
  {
   "cell_type": "code",
   "execution_count": 2,
   "metadata": {
    "collapsed": true
   },
   "outputs": [],
   "source": [
    "def checkSlash(directory):\n",
    "    if directory[-1] != '/':\n",
    "        directory = directory + '/'\n",
    "    return directory"
   ]
  },
  {
   "cell_type": "code",
   "execution_count": 3,
   "metadata": {
    "collapsed": false
   },
   "outputs": [],
   "source": [
    "coreDir = '/home/ubuntu/proc/sjspence/170105_PSE/'\n",
    "snpDir = '11_parsnp_subgroups_snps'\n",
    "coreDir = checkSlash(coreDir)\n",
    "snpDir = checkSlash(snpDir)\n",
    "\n",
    "#Identify subgroup names\n",
    "subDir = '10_subgroups/'\n",
    "subgroups = []\n",
    "for subdirs, dirs, files in os.walk(subDir):\n",
    "    for d in dirs:\n",
    "        subgroups.append(d)\n",
    "subgroups.sort()"
   ]
  },
  {
   "cell_type": "markdown",
   "metadata": {},
   "source": [
    "**ANCESTRAL RECONSTRUCTION WITH FASTML**"
   ]
  },
  {
   "cell_type": "code",
   "execution_count": 47,
   "metadata": {
    "collapsed": false
   },
   "outputs": [],
   "source": [
    "#Removal of branch supports\n",
    "#Node IDs must not be length 5 and can't be interpreted as floats\n",
    "def removeBranchSupports(tree):\n",
    "    treeList = tree.split(')')\n",
    "    newTree = []\n",
    "    for i, t in enumerate(treeList):\n",
    "        t = t.split(':')\n",
    "        if len(t[0]) == 5 and float(t[0]) > 0.0:\n",
    "            t = t[1:]\n",
    "        t = ':'.join(t)\n",
    "        if (i == 0) or (i == len(treeList)-1):\n",
    "            newTree.append(t)\n",
    "        else:\n",
    "            newTree.append(':' + t)\n",
    "    newTree = ')'.join(newTree)\n",
    "    return newTree\n",
    "\n",
    "#First, edit tree files to remove non-standard quote characters\n",
    "def editTree(treeFile, treeEdit):\n",
    "    treeIn = open(treeFile, 'r')\n",
    "    treeOut = open(treeEdit, 'w')\n",
    "    for line in treeIn:\n",
    "        line = line.replace('\\'', '')\n",
    "        line = line.replace('_contigs.fa.ref', '_ref')\n",
    "        line = line.replace('_contigs.fa', '')\n",
    "        line = removeBranchSupports(line)\n",
    "        treeOut.write(line)\n",
    "    treeIn.close()\n",
    "    treeOut.close()\n",
    "\n",
    "#Edit variant file to match tree file leaf IDs\n",
    "def editVariant(variantFile, variantEdit):\n",
    "    variantIn = open(variantFile, 'r')\n",
    "    variantOut = open(variantEdit, 'w')\n",
    "    for line in variantIn:\n",
    "        if '>' in line:\n",
    "            line = line.replace('_contigs.fa.ref', '_ref')\n",
    "            line = line.replace('_contigs.fa', '')\n",
    "            variantOut.write(line)\n",
    "        else:\n",
    "            variantOut.write(line)\n",
    "    variantIn.close()\n",
    "    variantOut.close()"
   ]
  },
  {
   "cell_type": "code",
   "execution_count": 49,
   "metadata": {
    "collapsed": false
   },
   "outputs": [],
   "source": [
    "#Edit tree and variant files for ancestral reconstruction\n",
    "fastmlPath = '/home/ubuntu/tools/FastML.v3.1/www/fastml/FastML_Wrapper.pl'\n",
    "for s in subgroups:\n",
    "    s = checkSlash(s)\n",
    "    treeFile = coreDir + snpDir + s + 'parsnp.tree'\n",
    "    treeEdit = treeFile.replace('.tree', '_edit.tree')\n",
    "    editTree(treeFile, treeEdit)\n",
    "    variantFile = coreDir + snpDir + s + 'variants.mfa'\n",
    "    variantEdit = variantFile.replace('.mfa', '_edit.mfa')\n",
    "    editVariant(variantFile, variantEdit)\n",
    "    outDir = coreDir + snpDir + s + 'fastml/'\n",
    "    if os.path.exists(outDir):\n",
    "        os.system('rm -r ' + outDir)\n",
    "    os.makedirs(outDir)\n",
    "    os.system('perl ' + fastmlPath + ' --MSA_File ' + variantEdit + ' --seqType nuc --outDir ' + outDir + \\\n",
    "         ' --Tree ' + treeEdit + ' --jointReconstruction no --indelReconstruction ML')"
   ]
  },
  {
   "cell_type": "markdown",
   "metadata": {
    "collapsed": true
   },
   "source": [
    "**NOTES**  \n",
    "subK stalled out, could not finish computing.  \n",
    "subM also stalled...  \n",
    "and subN  \n",
    "\n",
    "All are small groups with suspicious tree structures and long branch lengths (i.e. many snps)"
   ]
  },
  {
   "cell_type": "code",
   "execution_count": 13,
   "metadata": {
    "collapsed": true
   },
   "outputs": [],
   "source": [
    "def compareSeqs(seq1, seq2):\n",
    "    switches = []\n",
    "    for i, base in enumerate(seq1):\n",
    "        if seq1[i] != seq2[i]:\n",
    "            switches.append(i)\n",
    "    return switches\n",
    "\n",
    "def recursion(clade, seqDict, switches, homoplasy):\n",
    "    if clade.is_terminal():\n",
    "        allHomoplasies[clade.name] = list(set(homoplasy))\n",
    "    else:\n",
    "        parentSeq = seqDict[clade.name]\n",
    "        for c in clade.clades:\n",
    "            cSeq = seqDict[c.name]\n",
    "            s = compareSeqs(parentSeq, cSeq)\n",
    "            for switch in s:\n",
    "                if switch in switches:\n",
    "                    homoplasy.append(switch)\n",
    "                else:\n",
    "                    switches.append(switch)\n",
    "            recursion(c, seqDict, switches, homoplasy)"
   ]
  },
  {
   "cell_type": "code",
   "execution_count": 14,
   "metadata": {
    "collapsed": false
   },
   "outputs": [],
   "source": [
    "#tree.ancestor.txt\n",
    "#tree.newick.txt\n",
    "#seq.marginal.txt\n",
    "allHomoplasies = {}\n",
    "for s in subgroups:\n",
    "    s = checkSlash(s)\n",
    "    fastmlDir = coreDir + snpDir + s + 'fastml/'\n",
    "    if not os.path.exists(fastmlDir + 'seq.marginal.txt'):\n",
    "        continue\n",
    "    tree = Phylo.read(fastmlDir + 'tree.newick.txt', 'newick')\n",
    "    records = list(SeqIO.parse(fastmlDir + 'seq.marginal.txt', 'fasta'))\n",
    "    for r in records:\n",
    "        r.id = r.id.replace('-', '_')\n",
    "    seqDict = SeqIO.to_dict(records)\n",
    "    switches, homoplasy = [], []\n",
    "    recursion(tree.root, seqDict, switches, homoplasy)"
   ]
  },
  {
   "cell_type": "code",
   "execution_count": 22,
   "metadata": {
    "collapsed": false
   },
   "outputs": [
    {
     "name": "stdout",
     "output_type": "stream",
     "text": [
      "subA/\n",
      "D17_102043: 748,152,137\n",
      "D17_102039: 748,321,292\n",
      "D17_102038: 748,338,307\n",
      "D17_102037: 748,181,163\n",
      "D17_102036: 748,289,263\n",
      "D17_102050_ref: 748,3,3\n",
      "D17_102049: 748,367,332\n",
      "D17_102044: 748,7,6\n",
      "D17_102045: 748,41,36\n",
      "D17_102046: 748,58,53\n",
      "D17_102047: 748,85,78\n",
      "D17_102040: 748,120,110\n",
      "D17_102041: 748,355,322\n",
      "D17_102042: 748,240,218\n",
      "D17_102065: 748,262,238\n",
      "D17_102048: 748,213,193\n",
      "D17_102051: 748,307,280\n",
      "subB/\n",
      "D17_102237: 1253,341,279\n",
      "D17_102158: 1253,417,346\n",
      "D17_102197: 1253,247,200\n",
      "D17_102194: 1253,357,290\n",
      "D17_102195: 1253,288,233\n",
      "D17_102202: 1253,507,430\n",
      "D17_102061: 1253,220,175\n",
      "D17_102206: 1253,466,391\n",
      "D17_102207: 1253,387,317\n",
      "D17_102208: 1253,536,453\n",
      "D17_102209: 1253,437,364\n",
      "D17_102085: 1253,599,507\n",
      "D17_102086: 1253,568,481\n",
      "D17_102205_ref: 1253,184,148\n",
      "D17_102058: 1253,134,104\n",
      "D17_102052: 1253,264,214\n",
      "D17_102057: 1253,488,412\n",
      "D17_102054: 1253,19,14\n",
      "D17_102211: 1253,444,370\n",
      "D17_102210: 1253,406,336\n",
      "D17_102072: 1253,41,31\n",
      "D17_102141: 1253,0,0\n",
      "D17_102074: 1253,90,69\n",
      "D17_102095: 1253,554,469\n",
      "D17_102094: 1253,309,253\n",
      "D17_102092: 1253,588,497\n",
      "subC/\n",
      "D17_102017: 491,90,85\n",
      "D17_102002: 491,64,61\n",
      "D17_102003: 491,0,0\n",
      "D17_102235_ref: 491,51,51\n",
      "D17_102217: 491,123,114\n",
      "subD/\n",
      "D17_102007: 452,4,3\n",
      "D17_102008: 452,23,21\n",
      "D17_102232: 452,120,115\n",
      "D17_102006_ref: 452,0,0\n",
      "D17_102176: 452,60,57\n",
      "D17_102228: 452,80,76\n",
      "subG/\n",
      "D17_102022: 638,4,4\n",
      "D17_102029: 638,46,41\n",
      "D17_102026: 638,70,63\n",
      "D17_102027: 638,253,233\n",
      "D17_102024: 638,202,185\n",
      "D17_102025: 638,229,211\n",
      "D17_102028_ref: 638,173,160\n",
      "D17_102023: 638,0,0\n",
      "D17_102020: 638,101,93\n",
      "D17_102021: 638,123,114\n",
      "D17_102019: 638,146,135\n",
      "D17_102080: 638,32,29\n",
      "subH/\n",
      "D17_102088: 458,95,94\n",
      "D17_102090: 458,0,0\n",
      "D17_102215: 458,52,52\n",
      "D17_102089_ref: 458,0,0\n",
      "subI/\n",
      "D17_102226: 403,0,0\n",
      "D17_102018: 403,11,11\n",
      "D17_102231: 403,94,84\n",
      "D17_102222: 403,26,21\n",
      "D17_102218_ref: 403,54,46\n",
      "subJ/\n",
      "D17_102239: 467,12,12\n",
      "D17_102238: 467,36,31\n",
      "D17_102240_ref: 467,152,141\n",
      "D17_102244: 467,89,81\n",
      "D17_102245: 467,169,156\n",
      "D17_102242: 467,48,41\n",
      "D17_102243: 467,129,118\n",
      "D17_102236: 467,69,61\n",
      "D17_102241: 467,0,0\n",
      "D17_102234: 467,107,98\n",
      "subL/\n",
      "D17_102079: 207,7,7\n",
      "D17_102081: 207,0,0\n",
      "D17_102083_ref: 207,0,0\n",
      "D17_102078: 207,32,31\n",
      "subO/\n",
      "D17_102005: 492,30,30\n",
      "D17_102233: 492,90,90\n",
      "D17_102010_ref: 492,22,22\n",
      "D17_102230: 492,187,185\n",
      "D17_102009: 492,0,0\n",
      "D17_102229: 492,133,131\n"
     ]
    }
   ],
   "source": [
    "dimorphicHomoplasies = {}\n",
    "#NEED TO EDIT TO MAKE SURE ONLY EDITING READS FROM ONE SUBGROUP\n",
    "for s in subgroups:\n",
    "    s = checkSlash(s)\n",
    "    fastmlDir = coreDir + snpDir + s + 'fastml/'\n",
    "    if not os.path.exists(fastmlDir + 'seq.marginal.txt'):\n",
    "        continue\n",
    "    ##########################\n",
    "    #GET SET OF SEQ IDS TO CONSIDER FOR THIS SUBGROUP\n",
    "    print(s)\n",
    "    records = list(SeqIO.parse(snpDir + s + 'variants_edit.mfa', 'fasta'))\n",
    "    recordSet = set()\n",
    "    for r in records:\n",
    "        r.id = r.id.replace('-', '_')\n",
    "        recordSet.add(r.id)\n",
    "    ##########################\n",
    "    #DETERMINE DIMORPHIC SITES\n",
    "    variableSites = {}\n",
    "    for r in records:\n",
    "        for i, base in enumerate(r.seq):\n",
    "            if i not in variableSites:\n",
    "                variableSites[i] = set()\n",
    "            variableSites[i].add(base)\n",
    "    recordDict = SeqIO.to_dict(records)\n",
    "    dimorphic = []\n",
    "    for site in variableSites:\n",
    "        if len(variableSites[site]) == 2:\n",
    "            dimorphic.append(site)\n",
    "    ##########################\n",
    "    #KEEP ONLY DIMORPHIC SITES IN HOMOPLASIES\n",
    "    for seqID in recordSet:\n",
    "        dimorphicList = []\n",
    "        for hIndex in allHomoplasies[seqID]:\n",
    "            if hIndex in dimorphic:\n",
    "                dimorphicList.append(hIndex)\n",
    "        dimorphicHomoplasies[seqID] = dimorphicList\n",
    "    ##########################\n",
    "    #CHECK WORK\n",
    "    for seqID in recordSet:\n",
    "        print(seqID + ': ' + str(len(recordDict[seqID])) + ',' + str(len(allHomoplasies[seqID])) + ',' + \\\n",
    "              str(len(dimorphicHomoplasies[seqID])))\n",
    "    \n",
    "    #START HERE!! Didn't trim??"
   ]
  },
  {
   "cell_type": "code",
   "execution_count": null,
   "metadata": {
    "collapsed": true
   },
   "outputs": [],
   "source": [
    "########################################################\n",
    "####START HERE\n",
    "########################################################"
   ]
  },
  {
   "cell_type": "code",
   "execution_count": null,
   "metadata": {
    "collapsed": true
   },
   "outputs": [],
   "source": [
    "def getSNPs(contigFile):\n",
    "    records = SeqIO.parse(snpDir + subDir + 'variants.mfa', 'fasta')\n",
    "    for r in records:\n",
    "        if r.id == contigFile:\n",
    "            return(r.seq)\n",
    "    print('Error, wrong file referenced')\n",
    "\n",
    "def compareTerminals(terminals):\n",
    "    for subList in terminals:\n",
    "        commonClade = []\n",
    "        for i in subList:\n",
    "            variants = getSNPs(i)\n",
    "            commonClade.append(variants)\n",
    "\n",
    "def compareSNPs(clade):\n",
    "    if clade.is_terminal():\n",
    "        pass\n",
    "    elif len(clade.clades) >= 2:\n",
    "        terminals = []\n",
    "        for c in clade.clades:\n",
    "            terminalObjects = c.get_terminals()\n",
    "            terminalList = []\n",
    "            for o in terminalObjects:\n",
    "                terminalList.append(o.name)\n",
    "            terminals.append(terminalList)\n",
    "        print(terminals)\n",
    "        compareTerminals(terminals)\n",
    "        for c in clade.clades:\n",
    "            compareSNPs(c)\n",
    "    else:\n",
    "        print('Error, check tree configuration')"
   ]
  },
  {
   "cell_type": "code",
   "execution_count": 33,
   "metadata": {
    "collapsed": false
   },
   "outputs": [
    {
     "data": {
      "text/plain": [
       "['__bool__',\n",
       " '__class__',\n",
       " '__delattr__',\n",
       " '__format__',\n",
       " '__getattribute__',\n",
       " '__getitem__',\n",
       " '__hash__',\n",
       " '__init__',\n",
       " '__iter__',\n",
       " '__len__',\n",
       " '__new__',\n",
       " '__nonzero__',\n",
       " '__reduce__',\n",
       " '__reduce_ex__',\n",
       " '__repr__',\n",
       " '__setattr__',\n",
       " '__sizeof__',\n",
       " '__str__',\n",
       " '__subclasshook__',\n",
       " '_filter_search',\n",
       " '_get_color',\n",
       " '_set_color',\n",
       " 'collapse',\n",
       " 'collapse_all',\n",
       " 'common_ancestor',\n",
       " 'count_terminals',\n",
       " 'depths',\n",
       " 'distance',\n",
       " 'find_any',\n",
       " 'find_clades',\n",
       " 'find_elements',\n",
       " 'get_nonterminals',\n",
       " 'get_path',\n",
       " 'get_terminals',\n",
       " 'is_bifurcating',\n",
       " 'is_monophyletic',\n",
       " 'is_parent_of',\n",
       " 'is_preterminal',\n",
       " 'is_terminal',\n",
       " 'ladderize',\n",
       " 'prune',\n",
       " 'split',\n",
       " 'total_branch_length',\n",
       " 'trace']"
      ]
     },
     "execution_count": 33,
     "metadata": {},
     "output_type": "execute_result"
    }
   ],
   "source": [
    "#[method for method in dir(testTree) if callable(getattr(testTree, method))]\n",
    "#globals(testTree)\n",
    "for clade in testTree.find_clades():\n",
    "    print clade.name\n",
    "[method for method in dir(testTree.root) if callable(getattr(testTree.root, method))]\n",
    "compareSNPs(testTree.root)"
   ]
  }
 ],
 "metadata": {
  "kernelspec": {
   "display_name": "Python 2",
   "language": "python",
   "name": "python2"
  },
  "language_info": {
   "codemirror_mode": {
    "name": "ipython",
    "version": 2
   },
   "file_extension": ".py",
   "mimetype": "text/x-python",
   "name": "python",
   "nbconvert_exporter": "python",
   "pygments_lexer": "ipython2",
   "version": "2.7.11"
  }
 },
 "nbformat": 4,
 "nbformat_minor": 0
}
