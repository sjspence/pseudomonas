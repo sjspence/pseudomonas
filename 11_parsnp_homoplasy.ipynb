{
 "cells": [
  {
   "cell_type": "code",
   "execution_count": 1,
   "metadata": {
    "collapsed": false
   },
   "outputs": [
    {
     "name": "stderr",
     "output_type": "stream",
     "text": [
      "/home/ubuntu/tools/anaconda2/lib/python2.7/site-packages/matplotlib/font_manager.py:273: UserWarning: Matplotlib is building the font cache using fc-list. This may take a moment.\n",
      "  warnings.warn('Matplotlib is building the font cache using fc-list. This may take a moment.')\n"
     ]
    }
   ],
   "source": [
    "import os\n",
    "import sys\n",
    "import matplotlib as mpl\n",
    "import matplotlib.pyplot as plt\n",
    "from Bio import SeqIO\n",
    "from Bio import Phylo\n",
    "import pandas as pd\n",
    "import seaborn as sns\n",
    "mpl.rcParams['pdf.fonttype'] = 42\n",
    "%matplotlib inline"
   ]
  },
  {
   "cell_type": "code",
   "execution_count": 2,
   "metadata": {
    "collapsed": true
   },
   "outputs": [],
   "source": [
    "def checkSlash(directory):\n",
    "    if directory[-1] != '/':\n",
    "        directory = directory + '/'\n",
    "    return directory"
   ]
  },
  {
   "cell_type": "code",
   "execution_count": 5,
   "metadata": {
    "collapsed": false
   },
   "outputs": [],
   "source": [
    "coreDir = '/home/ubuntu/proc/sjspence/170105_PSE/'\n",
    "snpDir = '11_parsnp_subgroups_snps'\n",
    "coreDir = checkSlash(coreDir)\n",
    "snpDir = checkSlash(snpDir)\n",
    "\n",
    "#Identify subgroup names\n",
    "subDir = '10_subgroups/'\n",
    "subgroups = []\n",
    "for subdirs, dirs, files in os.walk(subDir):\n",
    "    for d in dirs:\n",
    "        subgroups.append(d)\n",
    "subgroups.sort()"
   ]
  },
  {
   "cell_type": "markdown",
   "metadata": {},
   "source": [
    "**ANCESTRAL RECONSTRUCTION WITH FASTML**"
   ]
  },
  {
   "cell_type": "code",
   "execution_count": 47,
   "metadata": {
    "collapsed": false
   },
   "outputs": [],
   "source": [
    "#Removal of branch supports\n",
    "#Node IDs must not be length 5 and can't be interpreted as floats\n",
    "def removeBranchSupports(tree):\n",
    "    treeList = tree.split(')')\n",
    "    newTree = []\n",
    "    for i, t in enumerate(treeList):\n",
    "        t = t.split(':')\n",
    "        if len(t[0]) == 5 and float(t[0]) > 0.0:\n",
    "            t = t[1:]\n",
    "        t = ':'.join(t)\n",
    "        if (i == 0) or (i == len(treeList)-1):\n",
    "            newTree.append(t)\n",
    "        else:\n",
    "            newTree.append(':' + t)\n",
    "    newTree = ')'.join(newTree)\n",
    "    return newTree\n",
    "\n",
    "#First, edit tree files to remove non-standard quote characters\n",
    "def editTree(treeFile, treeEdit):\n",
    "    treeIn = open(treeFile, 'r')\n",
    "    treeOut = open(treeEdit, 'w')\n",
    "    for line in treeIn:\n",
    "        line = line.replace('\\'', '')\n",
    "        line = line.replace('_contigs.fa.ref', '_ref')\n",
    "        line = line.replace('_contigs.fa', '')\n",
    "        line = removeBranchSupports(line)\n",
    "        treeOut.write(line)\n",
    "    treeIn.close()\n",
    "    treeOut.close()\n",
    "\n",
    "#Edit variant file to match tree file leaf IDs\n",
    "def editVariant(variantFile, variantEdit):\n",
    "    variantIn = open(variantFile, 'r')\n",
    "    variantOut = open(variantEdit, 'w')\n",
    "    for line in variantIn:\n",
    "        if '>' in line:\n",
    "            line = line.replace('_contigs.fa.ref', '_ref')\n",
    "            line = line.replace('_contigs.fa', '')\n",
    "            variantOut.write(line)\n",
    "        else:\n",
    "            variantOut.write(line)\n",
    "    variantIn.close()\n",
    "    variantOut.close()"
   ]
  },
  {
   "cell_type": "code",
   "execution_count": 49,
   "metadata": {
    "collapsed": false
   },
   "outputs": [],
   "source": [
    "#Edit tree and variant files for ancestral reconstruction\n",
    "fastmlPath = '/home/ubuntu/tools/FastML.v3.1/www/fastml/FastML_Wrapper.pl'\n",
    "for s in subgroups:\n",
    "    s = checkSlash(s)\n",
    "    treeFile = coreDir + snpDir + s + 'parsnp.tree'\n",
    "    treeEdit = treeFile.replace('.tree', '_edit.tree')\n",
    "    editTree(treeFile, treeEdit)\n",
    "    variantFile = coreDir + snpDir + s + 'variants.mfa'\n",
    "    variantEdit = variantFile.replace('.mfa', '_edit.mfa')\n",
    "    editVariant(variantFile, variantEdit)\n",
    "    outDir = coreDir + snpDir + s + 'fastml/'\n",
    "    if os.path.exists(outDir):\n",
    "        os.system('rm -r ' + outDir)\n",
    "    os.makedirs(outDir)\n",
    "    os.system('perl ' + fastmlPath + ' --MSA_File ' + variantEdit + ' --seqType nuc --outDir ' + outDir + \\\n",
    "         ' --Tree ' + treeEdit + ' --jointReconstruction no --indelReconstruction ML')"
   ]
  },
  {
   "cell_type": "markdown",
   "metadata": {
    "collapsed": true
   },
   "source": [
    "**NOTES**  \n",
    "subK stalled out, could not finish computing.  \n",
    "subM also stalled...  \n",
    "and subN  \n",
    "\n",
    "All are small groups with suspicious tree structures and long branch lengths (i.e. many snps)"
   ]
  },
  {
   "cell_type": "code",
   "execution_count": 6,
   "metadata": {
    "collapsed": false
   },
   "outputs": [],
   "source": [
    "#tree.ancestor.txt\n",
    "#tree.newick.txt\n",
    "#seq.marginal.txt\n",
    "for s in subgroups:\n",
    "    fastmlDir = coreDir + snpDir + s + 'fastml/'\n",
    "    if not os.path.exists(fastmlDir + 'tree.newick.txt'):\n",
    "        continue\n",
    "    tree = Phylo.read(fastmlDir + 'tree.newick.txt', 'newick')\n",
    "    Phylo.draw_ascii(tree)\n",
    "\n",
    "    #START HERE\n",
    "########################################################"
   ]
  },
  {
   "cell_type": "code",
   "execution_count": 6,
   "metadata": {
    "collapsed": false
   },
   "outputs": [
    {
     "name": "stdout",
     "output_type": "stream",
     "text": [
      "        _____________________ D17-102050_contigs.fa.ref\n",
      "      _|\n",
      "     | |_________________________ D17-102044_contigs.fa\n",
      "     |\n",
      "  ___|        ____________________________________ D17-102045_contigs.fa\n",
      " |   |    ___|\n",
      " |   |   |   |___________________________ D17-102046_contigs.fa\n",
      " |   |___|\n",
      " |       |   ________________________ D17-102047_contigs.fa\n",
      " |       |__|\n",
      " |          |   ___________________________ D17-102040_contigs.fa\n",
      " |          |__|\n",
      " |             |______________________________ D17-102043_contigs.fa\n",
      " |\n",
      " |     _______________________ D17-102037_contigs.fa\n",
      "_| ___|\n",
      " ||   |________________________________________ D17-102048_contigs.fa\n",
      " ||\n",
      " ||    _____________________________ D17-102042_contigs.fa\n",
      " ||___|\n",
      " |    |________________________ D17-102065_contigs.fa\n",
      " |\n",
      " |       ______________________________ D17-102036_contigs.fa\n",
      " |  ____|\n",
      " | |    |______________________ D17-102051_contigs.fa\n",
      " | |\n",
      " |_|        ____________________ D17-102039_contigs.fa\n",
      "   | ______|\n",
      "   ||      |________________________________ D17-102038_contigs.fa\n",
      "   ||\n",
      "    |    ____________________________ D17-102041_contigs.fa\n",
      "    |___|\n",
      "        |___________________________ D17-102049_contigs.fa\n",
      "\n"
     ]
    }
   ],
   "source": [
    "testTree = Phylo.read(snpDir + 'subA/parsnp.tree', 'newick')\n",
    "Phylo.draw_ascii(testTree)"
   ]
  },
  {
   "cell_type": "code",
   "execution_count": null,
   "metadata": {
    "collapsed": true
   },
   "outputs": [],
   "source": []
  },
  {
   "cell_type": "code",
   "execution_count": 65,
   "metadata": {
    "collapsed": true
   },
   "outputs": [],
   "source": [
    "def getSNPs(contigFile):\n",
    "    records = SeqIO.parse(snpDir + subDir + 'variants.mfa', 'fasta')\n",
    "    for r in records:\n",
    "        if r.id == contigFile:\n",
    "            return(r.seq)\n",
    "    print('Error, wrong file referenced')\n",
    "\n",
    "def compareTerminals(terminals):\n",
    "    for subList in terminals:\n",
    "        commonClade = []\n",
    "        for i in subList:\n",
    "            variants = getSNPs(i)\n",
    "            commonClade.append(variants)\n",
    "        "
   ]
  },
  {
   "cell_type": "code",
   "execution_count": 66,
   "metadata": {
    "collapsed": true
   },
   "outputs": [],
   "source": [
    "def compareSNPs(clade):\n",
    "    if clade.is_terminal():\n",
    "        pass\n",
    "    elif len(clade.clades) >= 2:\n",
    "        terminals = []\n",
    "        for c in clade.clades:\n",
    "            terminalObjects = c.get_terminals()\n",
    "            terminalList = []\n",
    "            for o in terminalObjects:\n",
    "                terminalList.append(o.name)\n",
    "            terminals.append(terminalList)\n",
    "        print(terminals)\n",
    "        compareTerminals(terminals)\n",
    "        for c in clade.clades:\n",
    "            compareSNPs(c)\n",
    "    else:\n",
    "        print('Error, check tree configuration')"
   ]
  },
  {
   "cell_type": "code",
   "execution_count": 67,
   "metadata": {
    "collapsed": false
   },
   "outputs": [
    {
     "name": "stdout",
     "output_type": "stream",
     "text": [
      "[['D17-102050_contigs.fa.ref', 'D17-102044_contigs.fa', 'D17-102045_contigs.fa', 'D17-102046_contigs.fa', 'D17-102047_contigs.fa', 'D17-102040_contigs.fa', 'D17-102043_contigs.fa'], ['D17-102037_contigs.fa', 'D17-102048_contigs.fa', 'D17-102042_contigs.fa', 'D17-102065_contigs.fa'], ['D17-102036_contigs.fa', 'D17-102051_contigs.fa', 'D17-102039_contigs.fa', 'D17-102038_contigs.fa', 'D17-102041_contigs.fa', 'D17-102049_contigs.fa']]\n",
      "748\n",
      "748\n",
      "748\n",
      "748\n",
      "748\n",
      "748\n",
      "748\n",
      "748\n",
      "748\n",
      "748\n",
      "748\n",
      "748\n",
      "748\n",
      "748\n",
      "748\n",
      "748\n",
      "748\n",
      "[['D17-102050_contigs.fa.ref', 'D17-102044_contigs.fa'], ['D17-102045_contigs.fa', 'D17-102046_contigs.fa', 'D17-102047_contigs.fa', 'D17-102040_contigs.fa', 'D17-102043_contigs.fa']]\n",
      "748\n",
      "748\n",
      "748\n",
      "748\n",
      "748\n",
      "748\n",
      "748\n",
      "[['D17-102050_contigs.fa.ref'], ['D17-102044_contigs.fa']]\n",
      "748\n",
      "748\n",
      "[['D17-102045_contigs.fa', 'D17-102046_contigs.fa'], ['D17-102047_contigs.fa', 'D17-102040_contigs.fa', 'D17-102043_contigs.fa']]\n",
      "748\n",
      "748\n",
      "748\n",
      "748\n",
      "748\n",
      "[['D17-102045_contigs.fa'], ['D17-102046_contigs.fa']]\n",
      "748\n",
      "748\n",
      "[['D17-102047_contigs.fa'], ['D17-102040_contigs.fa', 'D17-102043_contigs.fa']]\n",
      "748\n",
      "748\n",
      "748\n",
      "[['D17-102040_contigs.fa'], ['D17-102043_contigs.fa']]\n",
      "748\n",
      "748\n",
      "[['D17-102037_contigs.fa', 'D17-102048_contigs.fa'], ['D17-102042_contigs.fa', 'D17-102065_contigs.fa']]\n",
      "748\n",
      "748\n",
      "748\n",
      "748\n",
      "[['D17-102037_contigs.fa'], ['D17-102048_contigs.fa']]\n",
      "748\n",
      "748\n",
      "[['D17-102042_contigs.fa'], ['D17-102065_contigs.fa']]\n",
      "748\n",
      "748\n",
      "[['D17-102036_contigs.fa', 'D17-102051_contigs.fa'], ['D17-102039_contigs.fa', 'D17-102038_contigs.fa', 'D17-102041_contigs.fa', 'D17-102049_contigs.fa']]\n",
      "748\n",
      "748\n",
      "748\n",
      "748\n",
      "748\n",
      "748\n",
      "[['D17-102036_contigs.fa'], ['D17-102051_contigs.fa']]\n",
      "748\n",
      "748\n",
      "[['D17-102039_contigs.fa', 'D17-102038_contigs.fa'], ['D17-102041_contigs.fa', 'D17-102049_contigs.fa']]\n",
      "748\n",
      "748\n",
      "748\n",
      "748\n",
      "[['D17-102039_contigs.fa'], ['D17-102038_contigs.fa']]\n",
      "748\n",
      "748\n",
      "[['D17-102041_contigs.fa'], ['D17-102049_contigs.fa']]\n",
      "748\n",
      "748\n"
     ]
    }
   ],
   "source": [
    "compareSNPs(testTree.root)"
   ]
  },
  {
   "cell_type": "code",
   "execution_count": 33,
   "metadata": {
    "collapsed": false
   },
   "outputs": [
    {
     "data": {
      "text/plain": [
       "['__bool__',\n",
       " '__class__',\n",
       " '__delattr__',\n",
       " '__format__',\n",
       " '__getattribute__',\n",
       " '__getitem__',\n",
       " '__hash__',\n",
       " '__init__',\n",
       " '__iter__',\n",
       " '__len__',\n",
       " '__new__',\n",
       " '__nonzero__',\n",
       " '__reduce__',\n",
       " '__reduce_ex__',\n",
       " '__repr__',\n",
       " '__setattr__',\n",
       " '__sizeof__',\n",
       " '__str__',\n",
       " '__subclasshook__',\n",
       " '_filter_search',\n",
       " '_get_color',\n",
       " '_set_color',\n",
       " 'collapse',\n",
       " 'collapse_all',\n",
       " 'common_ancestor',\n",
       " 'count_terminals',\n",
       " 'depths',\n",
       " 'distance',\n",
       " 'find_any',\n",
       " 'find_clades',\n",
       " 'find_elements',\n",
       " 'get_nonterminals',\n",
       " 'get_path',\n",
       " 'get_terminals',\n",
       " 'is_bifurcating',\n",
       " 'is_monophyletic',\n",
       " 'is_parent_of',\n",
       " 'is_preterminal',\n",
       " 'is_terminal',\n",
       " 'ladderize',\n",
       " 'prune',\n",
       " 'split',\n",
       " 'total_branch_length',\n",
       " 'trace']"
      ]
     },
     "execution_count": 33,
     "metadata": {},
     "output_type": "execute_result"
    }
   ],
   "source": [
    "#[method for method in dir(testTree) if callable(getattr(testTree, method))]\n",
    "#globals(testTree)\n",
    "[method for method in dir(testTree.root) if callable(getattr(testTree.root, method))]"
   ]
  },
  {
   "cell_type": "code",
   "execution_count": null,
   "metadata": {
    "collapsed": true
   },
   "outputs": [],
   "source": [
    "def pop_list(nodes=None, parent=None, node_list=None):\n",
    "    if parent is None:\n",
    "        return node_list\n",
    "    node_list.append([])\n",
    "    for node in nodes:\n",
    "        if node['parent'] == parent:\n",
    "            node_list[-1].append(node)\n",
    "        if node['id'] == parent:\n",
    "            next_parent = node['parent']\n",
    "\n",
    "    pop_list(nodes, next_parent, node_list)\n",
    "    return node_list"
   ]
  },
  {
   "cell_type": "code",
   "execution_count": null,
   "metadata": {
    "collapsed": true
   },
   "outputs": [],
   "source": [
    "for clade in testTree.find_clades():\n",
    "    print clade.name"
   ]
  }
 ],
 "metadata": {
  "kernelspec": {
   "display_name": "Python 2",
   "language": "python",
   "name": "python2"
  },
  "language_info": {
   "codemirror_mode": {
    "name": "ipython",
    "version": 2
   },
   "file_extension": ".py",
   "mimetype": "text/x-python",
   "name": "python",
   "nbconvert_exporter": "python",
   "pygments_lexer": "ipython2",
   "version": "2.7.11"
  }
 },
 "nbformat": 4,
 "nbformat_minor": 0
}
