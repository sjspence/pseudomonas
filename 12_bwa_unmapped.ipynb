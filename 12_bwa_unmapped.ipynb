{
 "cells": [
  {
   "cell_type": "code",
   "execution_count": 1,
   "metadata": {
    "collapsed": true
   },
   "outputs": [],
   "source": [
    "import os\n",
    "import sys\n",
    "import matplotlib as mpl\n",
    "import matplotlib.gridspec as gridspec\n",
    "import matplotlib.pyplot as plt\n",
    "from Bio import SeqIO\n",
    "from Bio import Phylo\n",
    "import pandas as pd\n",
    "import seaborn as sns\n",
    "import pysam\n",
    "mpl.rcParams['pdf.fonttype'] = 42\n",
    "%matplotlib inline"
   ]
  },
  {
   "cell_type": "code",
   "execution_count": 2,
   "metadata": {
    "collapsed": true
   },
   "outputs": [],
   "source": [
    "def checkSlash(directory):\n",
    "    if directory[-1] != '/':\n",
    "        directory = directory + '/'\n",
    "    return directory"
   ]
  },
  {
   "cell_type": "code",
   "execution_count": 3,
   "metadata": {
    "collapsed": true
   },
   "outputs": [],
   "source": [
    "unmappedDir = '12_bwa_unmapped/'"
   ]
  },
  {
   "cell_type": "code",
   "execution_count": 5,
   "metadata": {
    "collapsed": true
   },
   "outputs": [],
   "source": [
    "#IF a read maps to some but not others...\n",
    "#WHICH of the unmapped reads are not shared by all?\n",
    "#DO any of them cluster?\n",
    "readDir = '13_bwa_horizontal/'\n",
    "if not os.path.exists(readDir):\n",
    "    os.makedirs(readDir)\n",
    "for subdirs, dirs, files in os.walk(unmappedDir):\n",
    "    for d in dirs:\n",
    "        ####\n",
    "        ####PREPARE DICTIONARY OF READS\n",
    "        subDict = {}\n",
    "        for f in os.listdir(unmappedDir + d):\n",
    "            if 'contig' not in f:\n",
    "                continue\n",
    "            contig = f.split('_')[1]\n",
    "            mapped = f.split('_')[3]            \n",
    "            inFile = open(unmappedDir + d + '/' + f, 'r')\n",
    "            unmappedDict = {}\n",
    "            for line in inFile:\n",
    "                line = line.strip().split('\\t')\n",
    "                readID = line[0]\n",
    "                unmappedDict[readID] = line\n",
    "            inFile.close()\n",
    "            if mapped in subDict:\n",
    "                subDict[mapped].append([f, unmappedDict])\n",
    "            else:\n",
    "                subDict[mapped] = [[f, unmappedDict]]\n",
    "        ####\n",
    "        ####IDENTIFY READS THAT DON'T MAP TO ANY SAMPLE\n",
    "        badReads = {}\n",
    "        for i, mapped in enumerate(subDict):\n",
    "            unmappedSet = set()\n",
    "            for j, result in enumerate(subDict[mapped]):\n",
    "                f = result[0]\n",
    "                unmappedDict = result[1]\n",
    "                if j == 0:\n",
    "                    unmappedSet = set(unmappedDict.keys())\n",
    "                else:\n",
    "                    unmappedSet = unmappedSet.intersection(unmappedDict.keys())\n",
    "            #print(mapped + ': ' + str(len(unmappedSet)))\n",
    "            badReads[mapped] = unmappedSet\n",
    "        ####\n",
    "        ####RECORD READS THAT MAP TO SOME BUT NOT OTHERS\n",
    "        ####USE DIAMOND AGAINST NR?!?!\n",
    "        for i, mapped in enumerate(subDict):\n",
    "            readsOfInterest = {}\n",
    "            for j, result in enumerate(subDict[mapped]):\n",
    "                f = result[0]\n",
    "                unmappedDict = result[1]\n",
    "                ct = 0\n",
    "                for read in unmappedDict:\n",
    "                    if read not in badReads[mapped]:\n",
    "                        if read not in readsOfInterest:\n",
    "                            seq = unmappedDict[read][9]\n",
    "                            readsOfInterest[read] = seq\n",
    "                        ct += 1\n",
    "                #Create pandas dataframe w/readIDs maybe?\n",
    "                #Or get locations and search for them in annotations?\n",
    "                #Or just blast against nr?\n",
    "                #print(f + ': ' + str(ct))\n",
    "            if not os.path.exists(readDir + d):\n",
    "                os.makedirs(readDir + d)\n",
    "            outFileName = readDir + d + '/' + mapped + '_horizontal.fa'\n",
    "            outFile = open(outFileName, 'w')\n",
    "            for r in readsOfInterest:\n",
    "                outFile.write('>' + r + '\\n' + readsOfInterest[r] + '\\n')\n",
    "            outFile.close()\n",
    "            os.system('blastn -task megablast -db nt_blast/nt -query ' + outFileName + ' -out ' + \\\n",
    "                      outFileName.replace('.fa', '.out'))\n",
    "            #diamond blastx -d nr -q reads.fna -a reads -t <temporary directory>\n",
    "            #('blastn megablast ')\n",
    "            #os.system('diamond blastx -d nr_diamond/nr -q ' + outFileName + ' -a ' + \\\n",
    "            #          outFileName.replace('.fa', '') + ' -t tmp/')"
   ]
  },
  {
   "cell_type": "code",
   "execution_count": null,
   "metadata": {
    "collapsed": true
   },
   "outputs": [],
   "source": [
    "num_threads\n",
    "outfmt"
   ]
  }
 ],
 "metadata": {
  "kernelspec": {
   "display_name": "Python 2",
   "language": "python",
   "name": "python2"
  },
  "language_info": {
   "codemirror_mode": {
    "name": "ipython",
    "version": 2
   },
   "file_extension": ".py",
   "mimetype": "text/x-python",
   "name": "python",
   "nbconvert_exporter": "python",
   "pygments_lexer": "ipython2",
   "version": "2.7.13"
  }
 },
 "nbformat": 4,
 "nbformat_minor": 1
}
