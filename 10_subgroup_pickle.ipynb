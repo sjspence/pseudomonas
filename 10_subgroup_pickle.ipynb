{
 "cells": [
  {
   "cell_type": "code",
   "execution_count": 3,
   "metadata": {
    "collapsed": true
   },
   "outputs": [],
   "source": [
    "import os\n",
    "import pickle"
   ]
  },
  {
   "cell_type": "code",
   "execution_count": 4,
   "metadata": {
    "collapsed": true
   },
   "outputs": [],
   "source": [
    "def getSubgroups():\n",
    "    subDict = {}\n",
    "    subDict['subA'] = ['D17-102051', 'D17-102042', 'D17-102049', 'D17-102065','D17-102046',\n",
    "                       'D17-102050', 'D17-102044', 'D17-102047', 'D17-102043','D17-102038',\n",
    "                       'D17-102041', 'D17-102048', 'D17-102039', 'D17-102045','D17-102037',\n",
    "                       'D17-102036', 'D17-102040']\n",
    "    subDict['subB'] = ['D17-102052', 'D17-102058', 'D17-102074', 'D17-102197','D17-102209',\n",
    "                       'D17-102095', 'D17-102141', 'D17-102054', 'D17-102195','D17-102194',\n",
    "                       'D17-102057', 'D17-102205', 'D17-102085', 'D17-102061','D17-102094',\n",
    "                       'D17-102202', 'D17-102208', 'D17-102237', 'D17-102207','D17-102206',\n",
    "                       'D17-102211', 'D17-102210', 'D17-102072', 'D17-102092','D17-102086',\n",
    "                       'D17-102158']\n",
    "    subDict['subC'] = ['D17-102017', 'D17-102002', 'D17-102235','D17-102003', 'D17-102217']\n",
    "    subDict['subD'] = ['D17-102232', 'D17-102007', 'D17-102228', 'D17-102008','D17-102006',\n",
    "                       'D17-102176']\n",
    "    subDict['subE'] = ['D17-102084', 'D17-102082', 'D17-102198','D17-102073', 'D17-102224']\n",
    "    subDict['subF'] = ['D17-102076', 'D17-102033', 'D17-102060', 'D17-102014','D17-102075',\n",
    "                       'D17-102032', 'D17-102016', 'D17-102034', 'D17-102013','D17-102091',\n",
    "                       'D17-102035', 'D17-102214', 'D17-102015']\n",
    "    subDict['subG'] = ['D17-102080', 'D17-102020', 'D17-102025', 'D17-102019','D17-102027',\n",
    "                       'D17-102024', 'D17-102022', 'D17-102021', 'D17-102028','D17-102029',\n",
    "                       'D17-102026', 'D17-102023']\n",
    "    subDict['subH'] = ['D17-102088', 'D17-102090', 'D17-102215', 'D17-102089']\n",
    "    subDict['subI'] = ['D17-102226', 'D17-102018', 'D17-102218', 'D17-102231','D17-102222']\n",
    "    subDict['subJ'] = ['D17-102238', 'D17-102242', 'D17-102239', 'D17-102244','D17-102245',\n",
    "                       'D17-102243', 'D17-102240', 'D17-102241', 'D17-102236','D17-102234']\n",
    "    subDict['subK'] = ['D17-102004', 'D17-102180', 'D17-102220', 'D17-102069','D17-102070',\n",
    "                       'D17-102212']\n",
    "    subDict['subL'] = ['D17-102078', 'D17-102083', 'D17-102081', 'D17-102079']\n",
    "    subDict['subM'] = ['D17-102203', 'D17-102055', 'D17-102204']\n",
    "    subDict['subN'] = ['D17-102213', 'D17-102193', 'D17-102093']\n",
    "    subDict['subO'] = ['D17-102010', 'D17-102009', 'D17-102229', 'D17-102230','D17-102005',\n",
    "                       'D17-102233']\n",
    "    return subDict"
   ]
  },
  {
   "cell_type": "code",
   "execution_count": 5,
   "metadata": {
    "collapsed": true
   },
   "outputs": [],
   "source": [
    "subDict = getSubgroups()\n",
    "pickle.dump(subDict, open(\"10_subgroups.p\", \"wb\"))"
   ]
  },
  {
   "cell_type": "code",
   "execution_count": null,
   "metadata": {
    "collapsed": true
   },
   "outputs": [],
   "source": []
  }
 ],
 "metadata": {
  "kernelspec": {
   "display_name": "Python 2",
   "language": "python",
   "name": "python2"
  },
  "language_info": {
   "codemirror_mode": {
    "name": "ipython",
    "version": 2
   },
   "file_extension": ".py",
   "mimetype": "text/x-python",
   "name": "python",
   "nbconvert_exporter": "python",
   "pygments_lexer": "ipython2",
   "version": "2.7.13"
  }
 },
 "nbformat": 4,
 "nbformat_minor": 1
}
