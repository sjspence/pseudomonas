{
 "cells": [
  {
   "cell_type": "code",
   "execution_count": 1,
   "metadata": {
    "collapsed": true
   },
   "outputs": [],
   "source": [
    "import os\n",
    "from Bio import SeqIO"
   ]
  },
  {
   "cell_type": "code",
   "execution_count": 2,
   "metadata": {
    "collapsed": true
   },
   "outputs": [],
   "source": [
    "def checkSlash(directory):\n",
    "    if directory[-1] != '/':\n",
    "        directory = directory + '/'\n",
    "    return directory"
   ]
  },
  {
   "cell_type": "markdown",
   "metadata": {},
   "source": [
    "# Edit prokka annotations for input into Tami's matlab pipeline"
   ]
  },
  {
   "cell_type": "code",
   "execution_count": 3,
   "metadata": {
    "collapsed": true
   },
   "outputs": [],
   "source": [
    "#prokkaDir = '09_prokka/'\n",
    "#outDir = '09_prokka_edit/'\n",
    "\n",
    "#Editing files for subgroup-assemblies\n",
    "#DONE: subA, subB, subC, subD, subG, subJ\n",
    "targetSubgroup = 'subE'\n",
    "\n",
    "contigDir = '14_subgroup_contigs/'\n",
    "prokkaDir = '14_subgroup_prokka/'\n",
    "outDir = '14_subgroup_prokka_edit/'\n",
    "prokkaDir = checkSlash(prokkaDir)\n",
    "outDir = checkSlash(outDir)"
   ]
  },
  {
   "cell_type": "code",
   "execution_count": 4,
   "metadata": {
    "collapsed": true
   },
   "outputs": [],
   "source": [
    "#Function to edit an annotated file from prokka into separate *.gb files for each contig\n",
    "#INPUTS  inContig: the reference contig file with headers that need to match the prokka results\n",
    "#        inProkka: the input Prokka *.gbk file which needs to be parsed into separate contig files\n",
    "#        sharedDelim: a text string prior to which is a unique identifier for the contig,\n",
    "#                     e.g. use 'length' to produce NODE_1_ as a unique idenfier from a SPAdes assembly\n",
    "#OUTPUT  outDir: path to directory where individual *.gb files will be stored, one for each contig, with headers\n",
    "#                that match the input contig file\n",
    "def exportFiles(inContig, inProkka, sharedDelim, outDir):\n",
    "    with open(inProkka, 'r') as f:\n",
    "        for line in f:\n",
    "            if 'LOCUS' in line:\n",
    "                if 'outFile' in locals():\n",
    "                    outFile.close()\n",
    "                lineList = line.strip().split()\n",
    "                nodeName = lineList[1].split(sharedDelim)[0]\n",
    "                correctName = ''\n",
    "                records = list(SeqIO.parse(inContig, 'fasta'))\n",
    "                for r in records:\n",
    "                    if nodeName in r.id:\n",
    "                        correctName = r.id\n",
    "                if correctName == '':\n",
    "                    print('error')\n",
    "                outName = outDir + correctName + '.gb'\n",
    "                outFile = open(outName, 'w')\n",
    "                fixString = line.strip()\n",
    "                noDef = True\n",
    "            else:\n",
    "                if noDef:\n",
    "                    if 'DEFINITION' in line:\n",
    "                        if len(fixString) < 79:\n",
    "                            for i in range(79-len(fixString)):\n",
    "                                fixString += ' '\n",
    "                        outFile.write(fixString + '\\n')\n",
    "                        outFile.write(line)\n",
    "                        noDef = False\n",
    "                    else:\n",
    "                        fixString += ' ' + line.strip()\n",
    "                else:\n",
    "                    outFile.write(line)"
   ]
  },
  {
   "cell_type": "code",
   "execution_count": null,
   "metadata": {},
   "outputs": [
    {
     "name": "stdout",
     "output_type": "stream",
     "text": [
      "subE\n"
     ]
    },
    {
     "ename": "KeyboardInterrupt",
     "evalue": "",
     "output_type": "error",
     "traceback": [
      "\u001b[1;31m---------------------------------------------------------------------------\u001b[0m",
      "\u001b[1;31mKeyboardInterrupt\u001b[0m                         Traceback (most recent call last)",
      "\u001b[1;32m<ipython-input-5-b97f32bdcdcc>\u001b[0m in \u001b[0;36m<module>\u001b[1;34m()\u001b[0m\n\u001b[0;32m     13\u001b[0m                     \u001b[0mcontigFile\u001b[0m \u001b[1;33m=\u001b[0m \u001b[0mcontigDir\u001b[0m \u001b[1;33m+\u001b[0m \u001b[0md\u001b[0m \u001b[1;33m+\u001b[0m \u001b[1;34m'_contigs.fna'\u001b[0m\u001b[1;33m\u001b[0m\u001b[0m\n\u001b[0;32m     14\u001b[0m                     \u001b[1;32mprint\u001b[0m\u001b[1;33m(\u001b[0m\u001b[0md\u001b[0m\u001b[1;33m)\u001b[0m\u001b[1;33m\u001b[0m\u001b[0m\n\u001b[1;32m---> 15\u001b[1;33m                     \u001b[0mexportFiles\u001b[0m\u001b[1;33m(\u001b[0m\u001b[0mcontigFile\u001b[0m\u001b[1;33m,\u001b[0m \u001b[0mprokkaDir\u001b[0m \u001b[1;33m+\u001b[0m \u001b[0md\u001b[0m \u001b[1;33m+\u001b[0m \u001b[1;34m'/'\u001b[0m \u001b[1;33m+\u001b[0m \u001b[0mf\u001b[0m\u001b[1;33m,\u001b[0m \u001b[1;34m'length'\u001b[0m\u001b[1;33m,\u001b[0m \u001b[0msampOutDir\u001b[0m\u001b[1;33m)\u001b[0m\u001b[1;33m\u001b[0m\u001b[0m\n\u001b[0m",
      "\u001b[1;32m<ipython-input-4-bcbef66d47c0>\u001b[0m in \u001b[0;36mexportFiles\u001b[1;34m(inContig, inProkka, sharedDelim, outDir)\u001b[0m\n\u001b[0;32m     15\u001b[0m                 \u001b[0mnodeName\u001b[0m \u001b[1;33m=\u001b[0m \u001b[0mlineList\u001b[0m\u001b[1;33m[\u001b[0m\u001b[1;36m1\u001b[0m\u001b[1;33m]\u001b[0m\u001b[1;33m.\u001b[0m\u001b[0msplit\u001b[0m\u001b[1;33m(\u001b[0m\u001b[0msharedDelim\u001b[0m\u001b[1;33m)\u001b[0m\u001b[1;33m[\u001b[0m\u001b[1;36m0\u001b[0m\u001b[1;33m]\u001b[0m\u001b[1;33m\u001b[0m\u001b[0m\n\u001b[0;32m     16\u001b[0m                 \u001b[0mcorrectName\u001b[0m \u001b[1;33m=\u001b[0m \u001b[1;34m''\u001b[0m\u001b[1;33m\u001b[0m\u001b[0m\n\u001b[1;32m---> 17\u001b[1;33m                 \u001b[0mrecords\u001b[0m \u001b[1;33m=\u001b[0m \u001b[0mlist\u001b[0m\u001b[1;33m(\u001b[0m\u001b[0mSeqIO\u001b[0m\u001b[1;33m.\u001b[0m\u001b[0mparse\u001b[0m\u001b[1;33m(\u001b[0m\u001b[0minContig\u001b[0m\u001b[1;33m,\u001b[0m \u001b[1;34m'fasta'\u001b[0m\u001b[1;33m)\u001b[0m\u001b[1;33m)\u001b[0m\u001b[1;33m\u001b[0m\u001b[0m\n\u001b[0m\u001b[0;32m     18\u001b[0m                 \u001b[1;32mfor\u001b[0m \u001b[0mr\u001b[0m \u001b[1;32min\u001b[0m \u001b[0mrecords\u001b[0m\u001b[1;33m:\u001b[0m\u001b[1;33m\u001b[0m\u001b[0m\n\u001b[0;32m     19\u001b[0m                     \u001b[1;32mif\u001b[0m \u001b[0mnodeName\u001b[0m \u001b[1;32min\u001b[0m \u001b[0mr\u001b[0m\u001b[1;33m.\u001b[0m\u001b[0mid\u001b[0m\u001b[1;33m:\u001b[0m\u001b[1;33m\u001b[0m\u001b[0m\n",
      "\u001b[1;32m/home/ubuntu/tools/anaconda2/lib/python2.7/site-packages/Bio/SeqIO/__init__.pyc\u001b[0m in \u001b[0;36mparse\u001b[1;34m(handle, format, alphabet)\u001b[0m\n\u001b[0;32m    598\u001b[0m             \u001b[1;32mraise\u001b[0m \u001b[0mValueError\u001b[0m\u001b[1;33m(\u001b[0m\u001b[1;34m\"Unknown format '%s'\"\u001b[0m \u001b[1;33m%\u001b[0m \u001b[0mformat\u001b[0m\u001b[1;33m)\u001b[0m\u001b[1;33m\u001b[0m\u001b[0m\n\u001b[0;32m    599\u001b[0m         \u001b[1;31m# This imposes some overhead... wait until we drop Python 2.4 to fix it\u001b[0m\u001b[1;33m\u001b[0m\u001b[1;33m\u001b[0m\u001b[0m\n\u001b[1;32m--> 600\u001b[1;33m         \u001b[1;32mfor\u001b[0m \u001b[0mr\u001b[0m \u001b[1;32min\u001b[0m \u001b[0mi\u001b[0m\u001b[1;33m:\u001b[0m\u001b[1;33m\u001b[0m\u001b[0m\n\u001b[0m\u001b[0;32m    601\u001b[0m             \u001b[1;32myield\u001b[0m \u001b[0mr\u001b[0m\u001b[1;33m\u001b[0m\u001b[0m\n\u001b[0;32m    602\u001b[0m \u001b[1;33m\u001b[0m\u001b[0m\n",
      "\u001b[1;32m/home/ubuntu/tools/anaconda2/lib/python2.7/site-packages/Bio/SeqIO/FastaIO.pyc\u001b[0m in \u001b[0;36mFastaIterator\u001b[1;34m(handle, alphabet, title2ids)\u001b[0m\n\u001b[0;32m    120\u001b[0m                             id=id, name=name, description=descr)\n\u001b[0;32m    121\u001b[0m     \u001b[1;32melse\u001b[0m\u001b[1;33m:\u001b[0m\u001b[1;33m\u001b[0m\u001b[0m\n\u001b[1;32m--> 122\u001b[1;33m         \u001b[1;32mfor\u001b[0m \u001b[0mtitle\u001b[0m\u001b[1;33m,\u001b[0m \u001b[0msequence\u001b[0m \u001b[1;32min\u001b[0m \u001b[0mSimpleFastaParser\u001b[0m\u001b[1;33m(\u001b[0m\u001b[0mhandle\u001b[0m\u001b[1;33m)\u001b[0m\u001b[1;33m:\u001b[0m\u001b[1;33m\u001b[0m\u001b[0m\n\u001b[0m\u001b[0;32m    123\u001b[0m             \u001b[1;32mtry\u001b[0m\u001b[1;33m:\u001b[0m\u001b[1;33m\u001b[0m\u001b[0m\n\u001b[0;32m    124\u001b[0m                 \u001b[0mfirst_word\u001b[0m \u001b[1;33m=\u001b[0m \u001b[0mtitle\u001b[0m\u001b[1;33m.\u001b[0m\u001b[0msplit\u001b[0m\u001b[1;33m(\u001b[0m\u001b[0mNone\u001b[0m\u001b[1;33m,\u001b[0m \u001b[1;36m1\u001b[0m\u001b[1;33m)\u001b[0m\u001b[1;33m[\u001b[0m\u001b[1;36m0\u001b[0m\u001b[1;33m]\u001b[0m\u001b[1;33m\u001b[0m\u001b[0m\n",
      "\u001b[1;32m/home/ubuntu/tools/anaconda2/lib/python2.7/site-packages/Bio/SeqIO/FastaIO.pyc\u001b[0m in \u001b[0;36mSimpleFastaParser\u001b[1;34m(handle)\u001b[0m\n\u001b[0;32m     60\u001b[0m                 \u001b[1;32mbreak\u001b[0m\u001b[1;33m\u001b[0m\u001b[0m\n\u001b[0;32m     61\u001b[0m             \u001b[0mlines\u001b[0m\u001b[1;33m.\u001b[0m\u001b[0mappend\u001b[0m\u001b[1;33m(\u001b[0m\u001b[0mline\u001b[0m\u001b[1;33m.\u001b[0m\u001b[0mrstrip\u001b[0m\u001b[1;33m(\u001b[0m\u001b[1;33m)\u001b[0m\u001b[1;33m)\u001b[0m\u001b[1;33m\u001b[0m\u001b[0m\n\u001b[1;32m---> 62\u001b[1;33m             \u001b[0mline\u001b[0m \u001b[1;33m=\u001b[0m \u001b[0mhandle\u001b[0m\u001b[1;33m.\u001b[0m\u001b[0mreadline\u001b[0m\u001b[1;33m(\u001b[0m\u001b[1;33m)\u001b[0m\u001b[1;33m\u001b[0m\u001b[0m\n\u001b[0m\u001b[0;32m     63\u001b[0m \u001b[1;33m\u001b[0m\u001b[0m\n\u001b[0;32m     64\u001b[0m         \u001b[1;31m# Remove trailing whitespace, and any internal spaces\u001b[0m\u001b[1;33m\u001b[0m\u001b[1;33m\u001b[0m\u001b[0m\n",
      "\u001b[1;31mKeyboardInterrupt\u001b[0m: "
     ]
    }
   ],
   "source": [
    "#Wrapper for my personal directories\n",
    "#if os.path.exists(outDir):\n",
    "#    os.system('rm -r' + outDir)\n",
    "for subdirs, dirs, files in os.walk(prokkaDir):\n",
    "    for d in dirs:\n",
    "        if d == targetSubgroup:\n",
    "            for f in os.listdir(prokkaDir + d):\n",
    "                if f[-4:] == '.gbk':\n",
    "                    #make new directory for edited annotations\n",
    "                    sampOutDir = outDir + d + '/'\n",
    "                    if not os.path.exists(sampOutDir):\n",
    "                        os.makedirs(sampOutDir)\n",
    "                    contigFile = contigDir + d + '_contigs.fna'\n",
    "                    print(d)\n",
    "                    exportFiles(contigFile, prokkaDir + d + '/' + f, 'length', sampOutDir)"
   ]
  },
  {
   "cell_type": "code",
   "execution_count": null,
   "metadata": {
    "collapsed": true
   },
   "outputs": [],
   "source": [
    "#zip -r myfiles.zip mydir"
   ]
  },
  {
   "cell_type": "markdown",
   "metadata": {},
   "source": [
    "# Edit prokka annotations for BioPython"
   ]
  },
  {
   "cell_type": "code",
   "execution_count": 6,
   "metadata": {
    "collapsed": true
   },
   "outputs": [],
   "source": [
    "def prokka_biopython_edit(prokkaFile, outFile):\n",
    "    prokkaData = []\n",
    "    with open(prokkaFile, 'r') as f:\n",
    "        for line in f:\n",
    "            prokkaData.append(line)\n",
    "    outF = open(outFile, 'w')\n",
    "    skipNext = False\n",
    "    for i, line in enumerate(prokkaData):\n",
    "        if 'LOCUS' in line:\n",
    "            line = line.strip().split()\n",
    "            locus = line[0]\n",
    "            rawNode = line[1]\n",
    "            length = rawNode.split('_')[3]\n",
    "            if rawNode[-len(length):] == length:\n",
    "                node = rawNode[0:len(rawNode) - len(length)]\n",
    "            else:\n",
    "                node = rawNode\n",
    "            if len(line) < 6:\n",
    "                date = prokkaData[i+1].strip()\n",
    "                skipNext = True\n",
    "            else:\n",
    "                date = line[5]\n",
    "            outLine = locus + '       ' + node + ' ' + length + ' bp DNA BCT linear 07-APR-2017\\n'\n",
    "            outF.write(outLine)\n",
    "        else:\n",
    "            if skipNext:\n",
    "                skipNext = False\n",
    "                continue\n",
    "            outF.write(line)\n",
    "    outF.close()"
   ]
  },
  {
   "cell_type": "code",
   "execution_count": 7,
   "metadata": {
    "collapsed": true
   },
   "outputs": [],
   "source": [
    "#Wrapper for the function above\n",
    "inDir = '14_subgroup_prokka/'\n",
    "outDir = '14_subgroup_prokka_edit/'\n",
    "#inDir = '09_prokka'\n",
    "#outDir = '09_prokka_biopython'\n",
    "inDir = checkSlash(inDir)\n",
    "outDir = checkSlash(outDir)\n",
    "if not os.path.exists(outDir):\n",
    "    os.makedirs(outDir)\n",
    "for subdirs, dirs, files in os.walk(inDir):\n",
    "    for d in dirs:\n",
    "        sampID = d\n",
    "        prokkaFile = inDir + checkSlash(d) + d + '.gbk'\n",
    "        outFile = outDir + d + '.gb'\n",
    "        prokka_biopython_edit(prokkaFile, outFile)"
   ]
  },
  {
   "cell_type": "code",
   "execution_count": null,
   "metadata": {
    "collapsed": true
   },
   "outputs": [],
   "source": []
  }
 ],
 "metadata": {
  "kernelspec": {
   "display_name": "Python 2",
   "language": "python",
   "name": "python2"
  },
  "language_info": {
   "codemirror_mode": {
    "name": "ipython",
    "version": 2
   },
   "file_extension": ".py",
   "mimetype": "text/x-python",
   "name": "python",
   "nbconvert_exporter": "python",
   "pygments_lexer": "ipython2",
   "version": "2.7.13"
  }
 },
 "nbformat": 4,
 "nbformat_minor": 1
}
